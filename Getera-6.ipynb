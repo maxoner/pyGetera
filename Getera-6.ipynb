{
 "cells": [
  {
   "cell_type": "markdown",
   "metadata": {},
   "source": [
    "# *Работа 6:* Размножающие свойства решетки реактора канального типа"
   ]
  },
  {
   "cell_type": "code",
   "execution_count": 1,
   "metadata": {},
   "outputs": [],
   "source": [
    "import matplotlib.pyplot as pl\n",
    "import numpy as np\n",
    "import pandas as pd\n",
    "import pyGetera\n",
    "from sklearn.kernel_ridge import KernelRidge\n",
    "from sklearn.preprocessing import normalize\n",
    "getera = pyGetera.GeteraInterface(\n",
    "    getera_path='D:\\\\bin\\\\',\n",
    "    input_file='lab6.txt',\n",
    "    output_file='lab6.out')"
   ]
  },
  {
   "cell_type": "markdown",
   "metadata": {},
   "source": [
    "Будем работать с ячейкой канального реактора со следующими параметрами:\n",
    "\n",
    "* 18 твэлов\n",
    "* радиус ТВС $50 мм$\n",
    "* толщина оболочки ТВС $2.5 мм$\n",
    "* топливо $UO_2$ c обогащение $x=2.0\\%$\n",
    "* Толщина оболочки твэла $\\delta_t=0.6 мм$\n",
    "* диаметр твэла $d=10.0 мм$\n",
    "* теплоноситель — легкая вода с плотностью $0.7\\  г/см^3$\n",
    "\n",
    "Рассчитаем необходимые ядерные концентрации веществ:"
   ]
  },
  {
   "cell_type": "code",
   "execution_count": 2,
   "metadata": {},
   "outputs": [
    {
     "data": {
      "text/html": [
       "<div>\n",
       "<style scoped>\n",
       "    .dataframe tbody tr th:only-of-type {\n",
       "        vertical-align: middle;\n",
       "    }\n",
       "\n",
       "    .dataframe tbody tr th {\n",
       "        vertical-align: top;\n",
       "    }\n",
       "\n",
       "    .dataframe thead th {\n",
       "        text-align: right;\n",
       "    }\n",
       "</style>\n",
       "<table border=\"1\" class=\"dataframe\">\n",
       "  <thead>\n",
       "    <tr style=\"text-align: right;\">\n",
       "      <th></th>\n",
       "      <th>x</th>\n",
       "      <th>pzam</th>\n",
       "      <th>ptop</th>\n",
       "      <th>U235</th>\n",
       "      <th>U238</th>\n",
       "      <th>O</th>\n",
       "      <th>Zr</th>\n",
       "      <th>*H*</th>\n",
       "      <th>*O*</th>\n",
       "      <th>C</th>\n",
       "      <th>D</th>\n",
       "    </tr>\n",
       "  </thead>\n",
       "  <tbody>\n",
       "    <tr>\n",
       "      <th>0</th>\n",
       "      <td>2.0</td>\n",
       "      <td>8.370161e+22</td>\n",
       "      <td>2.446556e+22</td>\n",
       "      <td>0.000489</td>\n",
       "      <td>0.023976</td>\n",
       "      <td>0.048931</td>\n",
       "      <td>0.0351</td>\n",
       "      <td>0.005071</td>\n",
       "      <td>0.023392</td>\n",
       "      <td>0.083702</td>\n",
       "      <td>0</td>\n",
       "    </tr>\n",
       "  </tbody>\n",
       "</table>\n",
       "</div>"
      ],
      "text/plain": [
       "     x          pzam          ptop      U235      U238         O      Zr  \\\n",
       "0  2.0  8.370161e+22  2.446556e+22  0.000489  0.023976  0.048931  0.0351   \n",
       "\n",
       "        *H*       *O*         C  D  \n",
       "0  0.005071  0.023392  0.083702  0  "
      ]
     },
     "execution_count": 2,
     "metadata": {},
     "output_type": "execute_result"
    }
   ],
   "source": [
    "ptop0 = 10.97*6.02*10**(23)/269.928\n",
    "pcool = 0.7*6.02*10**(23)/18.015\n",
    "pzam01 = 1.67*6.02*10**(23)/12.011\n",
    "\n",
    "Rho1 = pd.DataFrame({'x':[2.0]})\n",
    "Rho1['pzam'] = pzam01\n",
    "Rho1['ptop'] = ptop0\n",
    "Rho1['U235'] = (Rho1.x/100)*Rho1.ptop*10**(-24)\n",
    "Rho1['U238'] = (1-Rho1.x/100)*Rho1.ptop*10**(-24)\n",
    "Rho1['O']    = 2*Rho1.ptop*10**(-24)\n",
    "Rho1['Zr']   = 0.0351\n",
    "Rho1['*H*']  = 2*pcool*10.97**(-24)\n",
    "Rho1['*O*']  = pcool*10**(-24)\n",
    "Rho1['C']    = Rho1.pzam*10**(-24)\n",
    "Rho1['D']    = 0\n",
    "Acell = 12\n",
    "d = 1\n",
    "delta_t = 0.06\n",
    "TVS_R = 5\n",
    "delta_TVS = 0.25\n",
    "Rho1"
   ]
  },
  {
   "cell_type": "markdown",
   "metadata": {},
   "source": [
    "## Задание 1\n",
    "Зададим ячейку с вышеописанными параметрами и с шагом решетки $12\\ мм$ и рассчитаем необходимые коэффициенты и макросечения."
   ]
  },
  {
   "cell_type": "code",
   "execution_count": 5,
   "metadata": {},
   "outputs": [
    {
     "data": {
      "text/html": [
       "<div>\n",
       "<style scoped>\n",
       "    .dataframe tbody tr th:only-of-type {\n",
       "        vertical-align: middle;\n",
       "    }\n",
       "\n",
       "    .dataframe tbody tr th {\n",
       "        vertical-align: top;\n",
       "    }\n",
       "\n",
       "    .dataframe thead th {\n",
       "        text-align: right;\n",
       "    }\n",
       "</style>\n",
       "<table border=\"1\" class=\"dataframe\">\n",
       "  <thead>\n",
       "    <tr style=\"text-align: right;\">\n",
       "      <th></th>\n",
       "      <th>\\(K_{\\infty}\\)</th>\n",
       "      <th>\\(\\vartheta\\)</th>\n",
       "      <th>\\(\\varphi\\)</th>\n",
       "      <th>\\(\\Sigma_{a}^{топ}\\)</th>\n",
       "      <th>\\(\\Sigma_{a}^{зам}\\)</th>\n",
       "      <th>\\(\\nu_f\\Sigma_f\\)</th>\n",
       "    </tr>\n",
       "  </thead>\n",
       "  <tbody>\n",
       "    <tr>\n",
       "      <th>0</th>\n",
       "      <td>1.3372</td>\n",
       "      <td>0.92487</td>\n",
       "      <td>0.78589</td>\n",
       "      <td>0.00311</td>\n",
       "      <td>0.003153</td>\n",
       "      <td>0.0</td>\n",
       "    </tr>\n",
       "  </tbody>\n",
       "</table>\n",
       "</div>"
      ],
      "text/plain": [
       "   \\(K_{\\infty}\\)  \\(\\vartheta\\)  \\(\\varphi\\)  \\(\\Sigma_{a}^{топ}\\)  \\\n",
       "0          1.3372        0.92487      0.78589               0.00311   \n",
       "\n",
       "   \\(\\Sigma_{a}^{зам}\\)  \\(\\nu_f\\Sigma_f\\)  \n",
       "0              0.003153                0.0  "
      ]
     },
     "metadata": {},
     "output_type": "display_data"
    }
   ],
   "source": [
    "to_tex_dict = {\n",
    "    'keff': r'\\(K_{\\infty}\\)',\n",
    "    'nu': r'\\(\\nu\\)',\n",
    "    'mu': r'\\(\\mu\\)',\n",
    "    'fi': r'\\(\\varphi\\)',\n",
    "    'teta': r'\\(\\vartheta\\)',\n",
    "    '3::sabs2': r'\\(\\Sigma_{a}^{топ}\\)',\n",
    "    '1::sabs2': r'\\(\\Sigma_{a}^{зам}\\)',\n",
    "    '1::nusfis2': r'\\(\\nu_f\\Sigma_f\\)',\n",
    "}\n",
    "\n",
    "def lab6(step):\n",
    "    #меняем радиусы\n",
    "    getera.input(\n",
    "        {\n",
    "            'rcel(1,1)':[0.75],\n",
    "            'rcel(1,2)':[d/2 - delta_t, d/2, 1],\n",
    "            'rcel(1,3)':[5.0,5.6,6.5,9.,11.3, step, 'rcin(3)=4.75']\n",
    "        }, \n",
    "        reg_exp=r'\\s+rcel\\(\\d,\\d\\)=')\n",
    "    \n",
    "    #меняем концентрации \n",
    "    getera.input({\n",
    "        'u235': [Rho1['U235'][0], 0,              0,              0],\n",
    "        'u238': [Rho1['U238'][0], 0,              0,              0],\n",
    "        'o':    [Rho1['O'][0],    0,              0,              0],\n",
    "        'zr':   [0,               Rho1['Zr'][0],  0,              0],\n",
    "        '*h*':  [0,               0,              Rho1['*H*'][0], 0],\n",
    "        '*o*':  [0,               0,              Rho1['*O*'][0], 0],\n",
    "        'c':    [0,               0,              0,              Rho1['C'][0]]\n",
    "    })\n",
    "    \n",
    "    result = getera.output(\n",
    "                        format='pandas', \n",
    "                        columns=[\n",
    "                            'keff', 'teta','fi',\n",
    "                            '3::sabs2', '1::sabs2', \n",
    "                            '1::nusfis2'\n",
    "                            ]\n",
    "                    )\n",
    "    return result\n",
    "\n",
    "\n",
    "result = lab6(12)\n",
    "display(result.rename(columns=to_tex_dict))"
   ]
  },
  {
   "cell_type": "markdown",
   "metadata": {},
   "source": [
    "## Задание 2\n",
    "Найдем теперь оптимальный шаг решетки:"
   ]
  },
  {
   "cell_type": "code",
   "execution_count": 6,
   "metadata": {},
   "outputs": [
    {
     "name": "stdout",
     "output_type": "stream",
     "text": [
      "a optimum for H_2O 16.499999999999993\n"
     ]
    },
    {
     "data": {
      "text/html": [
       "<div>\n",
       "<style scoped>\n",
       "    .dataframe tbody tr th:only-of-type {\n",
       "        vertical-align: middle;\n",
       "    }\n",
       "\n",
       "    .dataframe tbody tr th {\n",
       "        vertical-align: top;\n",
       "    }\n",
       "\n",
       "    .dataframe thead th {\n",
       "        text-align: right;\n",
       "    }\n",
       "</style>\n",
       "<table border=\"1\" class=\"dataframe\">\n",
       "  <thead>\n",
       "    <tr style=\"text-align: right;\">\n",
       "      <th></th>\n",
       "      <th>\\(K_{\\infty}\\)</th>\n",
       "      <th>\\(\\vartheta\\)</th>\n",
       "      <th>\\(\\varphi\\)</th>\n",
       "      <th>\\(\\Sigma_{a}^{топ}\\)</th>\n",
       "      <th>\\(\\Sigma_{a}^{зам}\\)</th>\n",
       "      <th>\\(\\nu_f\\Sigma_f\\)</th>\n",
       "    </tr>\n",
       "  </thead>\n",
       "  <tbody>\n",
       "    <tr>\n",
       "      <th>0</th>\n",
       "      <td>1.3769</td>\n",
       "      <td>0.91001</td>\n",
       "      <td>0.83499</td>\n",
       "      <td>0.003201</td>\n",
       "      <td>0.003246</td>\n",
       "      <td>0.0</td>\n",
       "    </tr>\n",
       "    <tr>\n",
       "      <th>10</th>\n",
       "      <td>1.3867</td>\n",
       "      <td>0.90174</td>\n",
       "      <td>0.85278</td>\n",
       "      <td>0.003235</td>\n",
       "      <td>0.003281</td>\n",
       "      <td>0.0</td>\n",
       "    </tr>\n",
       "    <tr>\n",
       "      <th>20</th>\n",
       "      <td>1.3914</td>\n",
       "      <td>0.89297</td>\n",
       "      <td>0.86739</td>\n",
       "      <td>0.003264</td>\n",
       "      <td>0.003310</td>\n",
       "      <td>0.0</td>\n",
       "    </tr>\n",
       "    <tr>\n",
       "      <th>30</th>\n",
       "      <td>1.3922</td>\n",
       "      <td>0.88377</td>\n",
       "      <td>0.87949</td>\n",
       "      <td>0.003288</td>\n",
       "      <td>0.003334</td>\n",
       "      <td>0.0</td>\n",
       "    </tr>\n",
       "    <tr>\n",
       "      <th>40</th>\n",
       "      <td>1.3896</td>\n",
       "      <td>0.87417</td>\n",
       "      <td>0.88962</td>\n",
       "      <td>0.003308</td>\n",
       "      <td>0.003355</td>\n",
       "      <td>0.0</td>\n",
       "    </tr>\n",
       "    <tr>\n",
       "      <th>50</th>\n",
       "      <td>1.3844</td>\n",
       "      <td>0.86420</td>\n",
       "      <td>0.89817</td>\n",
       "      <td>0.003325</td>\n",
       "      <td>0.003373</td>\n",
       "      <td>0.0</td>\n",
       "    </tr>\n",
       "  </tbody>\n",
       "</table>\n",
       "</div>"
      ],
      "text/plain": [
       "    \\(K_{\\infty}\\)  \\(\\vartheta\\)  \\(\\varphi\\)  \\(\\Sigma_{a}^{топ}\\)  \\\n",
       "0           1.3769        0.91001      0.83499              0.003201   \n",
       "10          1.3867        0.90174      0.85278              0.003235   \n",
       "20          1.3914        0.89297      0.86739              0.003264   \n",
       "30          1.3922        0.88377      0.87949              0.003288   \n",
       "40          1.3896        0.87417      0.88962              0.003308   \n",
       "50          1.3844        0.86420      0.89817              0.003325   \n",
       "\n",
       "    \\(\\Sigma_{a}^{зам}\\)  \\(\\nu_f\\Sigma_f\\)  \n",
       "0               0.003246                0.0  \n",
       "10              0.003281                0.0  \n",
       "20              0.003310                0.0  \n",
       "30              0.003334                0.0  \n",
       "40              0.003355                0.0  \n",
       "50              0.003373                0.0  "
      ]
     },
     "metadata": {},
     "output_type": "display_data"
    },
    {
     "data": {
      "image/png": "[encoded data removed]",
      "text/plain": [
       "<Figure size 432x288 with 1 Axes>"
      ]
     },
     "metadata": {
      "needs_background": "light"
     },
     "output_type": "display_data"
    }
   ],
   "source": [
    "def find_opt(acellRange, tag, lab, is_plot=True):\n",
    "    list_of_res = []\n",
    "    for r in acellRange:\n",
    "        list_of_res.append(lab(r))\n",
    "    results = pd.concat(list_of_res, axis=0, ignore_index=True)\n",
    "    if is_plot:\n",
    "        pl.plot(acellRange, results['keff'])\n",
    "        pl.xlabel('a, cм')\n",
    "        pl.ylabel('$K_{\\infty}$')\n",
    "    print(fr\"a optimum for {tag}\", acellRange[np.argmax(results['keff'])])\n",
    "    display(results.rename(columns=to_tex_dict)[::10])\n",
    "    return results\n",
    "\n",
    "acellRange = np.arange(14, 20, 0.1)\n",
    "results1 = find_opt(acellRange, 'H_2O', lab6)\n"
   ]
  },
  {
   "cell_type": "markdown",
   "metadata": {},
   "source": [
    "## Задание 3\n",
    "Преобразуем входной файл и рассчитаем концентрации для ячейки, содержащей в качестве замедлителя и теплоносителя тяжелую воду, а в качестве топлива — $UO_2$ с обогащением $0.71\\%$\n",
    "\n",
    "Расчитаем концентрации:"
   ]
  },
  {
   "cell_type": "code",
   "execution_count": 7,
   "metadata": {},
   "outputs": [
    {
     "data": {
      "text/html": [
       "<div>\n",
       "<style scoped>\n",
       "    .dataframe tbody tr th:only-of-type {\n",
       "        vertical-align: middle;\n",
       "    }\n",
       "\n",
       "    .dataframe tbody tr th {\n",
       "        vertical-align: top;\n",
       "    }\n",
       "\n",
       "    .dataframe thead th {\n",
       "        text-align: right;\n",
       "    }\n",
       "</style>\n",
       "<table border=\"1\" class=\"dataframe\">\n",
       "  <thead>\n",
       "    <tr style=\"text-align: right;\">\n",
       "      <th></th>\n",
       "      <th>x</th>\n",
       "      <th>pzam</th>\n",
       "      <th>ptop</th>\n",
       "      <th>U235</th>\n",
       "      <th>U238</th>\n",
       "      <th>O</th>\n",
       "      <th>Zr</th>\n",
       "      <th>*H*</th>\n",
       "      <th>*O*</th>\n",
       "      <th>C</th>\n",
       "      <th>D</th>\n",
       "    </tr>\n",
       "  </thead>\n",
       "  <tbody>\n",
       "    <tr>\n",
       "      <th>0</th>\n",
       "      <td>0.7</td>\n",
       "      <td>3.336462e+22</td>\n",
       "      <td>2.446556e+22</td>\n",
       "      <td>0.000171</td>\n",
       "      <td>0.024294</td>\n",
       "      <td>0.048931</td>\n",
       "      <td>0.0351</td>\n",
       "      <td>0</td>\n",
       "      <td>0.033365</td>\n",
       "      <td>0</td>\n",
       "      <td>0.066729</td>\n",
       "    </tr>\n",
       "  </tbody>\n",
       "</table>\n",
       "</div>"
      ],
      "text/plain": [
       "     x          pzam          ptop      U235      U238         O      Zr  *H*  \\\n",
       "0  0.7  3.336462e+22  2.446556e+22  0.000171  0.024294  0.048931  0.0351    0   \n",
       "\n",
       "        *O*  C         D  \n",
       "0  0.033365  0  0.066729  "
      ]
     },
     "execution_count": 7,
     "metadata": {},
     "output_type": "execute_result"
    }
   ],
   "source": [
    "pzam01 = 1.11*6.02*10**(23)/20.0278\n",
    "\n",
    "Rho1 = pd.DataFrame({'x':[0.7]})\n",
    "Rho1['pzam'] = pzam01\n",
    "Rho1['ptop'] = ptop0\n",
    "Rho1['U235'] = (Rho1.x/100)*Rho1.ptop*10**(-24)\n",
    "Rho1['U238'] = (1-Rho1.x/100)*Rho1.ptop*10**(-24)\n",
    "Rho1['O']    = 2*Rho1.ptop*10**(-24)\n",
    "Rho1['Zr']   = 0.0351\n",
    "Rho1['*H*']  = 0\n",
    "Rho1['*O*']  = Rho1.pzam*10**(-24)\n",
    "Rho1['C']    = 0\n",
    "Rho1['D']    = 2*Rho1.pzam*10**(-24)\n",
    "Rho1"
   ]
  },
  {
   "cell_type": "markdown",
   "metadata": {},
   "source": [
    "Зададим ячейку и найдем оптимальный шаг:"
   ]
  },
  {
   "cell_type": "code",
   "execution_count": 12,
   "metadata": {},
   "outputs": [
    {
     "name": "stdout",
     "output_type": "stream",
     "text": [
      "a optimum for D_2O 16.399999999999995\n"
     ]
    },
    {
     "data": {
      "text/html": [
       "<div>\n",
       "<style scoped>\n",
       "    .dataframe tbody tr th:only-of-type {\n",
       "        vertical-align: middle;\n",
       "    }\n",
       "\n",
       "    .dataframe tbody tr th {\n",
       "        vertical-align: top;\n",
       "    }\n",
       "\n",
       "    .dataframe thead th {\n",
       "        text-align: right;\n",
       "    }\n",
       "</style>\n",
       "<table border=\"1\" class=\"dataframe\">\n",
       "  <thead>\n",
       "    <tr style=\"text-align: right;\">\n",
       "      <th></th>\n",
       "      <th>\\(K_{\\infty}\\)</th>\n",
       "      <th>\\(\\vartheta\\)</th>\n",
       "      <th>\\(\\varphi\\)</th>\n",
       "      <th>\\(\\Sigma_{a}^{топ}\\)</th>\n",
       "      <th>\\(\\Sigma_{a}^{зам}\\)</th>\n",
       "      <th>\\(\\nu_f\\Sigma_f\\)</th>\n",
       "    </tr>\n",
       "  </thead>\n",
       "  <tbody>\n",
       "    <tr>\n",
       "      <th>0</th>\n",
       "      <td>1.1772</td>\n",
       "      <td>0.95866</td>\n",
       "      <td>0.93267</td>\n",
       "      <td>0.003563</td>\n",
       "      <td>0.003617</td>\n",
       "      <td>0.0</td>\n",
       "    </tr>\n",
       "    <tr>\n",
       "      <th>10</th>\n",
       "      <td>1.1786</td>\n",
       "      <td>0.95624</td>\n",
       "      <td>0.93645</td>\n",
       "      <td>0.003575</td>\n",
       "      <td>0.003629</td>\n",
       "      <td>0.0</td>\n",
       "    </tr>\n",
       "    <tr>\n",
       "      <th>20</th>\n",
       "      <td>1.1786</td>\n",
       "      <td>0.95370</td>\n",
       "      <td>0.93919</td>\n",
       "      <td>0.003580</td>\n",
       "      <td>0.003634</td>\n",
       "      <td>0.0</td>\n",
       "    </tr>\n",
       "    <tr>\n",
       "      <th>30</th>\n",
       "      <td>1.1776</td>\n",
       "      <td>0.95101</td>\n",
       "      <td>0.94120</td>\n",
       "      <td>0.003584</td>\n",
       "      <td>0.003638</td>\n",
       "      <td>0.0</td>\n",
       "    </tr>\n",
       "    <tr>\n",
       "      <th>40</th>\n",
       "      <td>1.1759</td>\n",
       "      <td>0.94817</td>\n",
       "      <td>0.94270</td>\n",
       "      <td>0.003587</td>\n",
       "      <td>0.003641</td>\n",
       "      <td>0.0</td>\n",
       "    </tr>\n",
       "  </tbody>\n",
       "</table>\n",
       "</div>"
      ],
      "text/plain": [
       "    \\(K_{\\infty}\\)  \\(\\vartheta\\)  \\(\\varphi\\)  \\(\\Sigma_{a}^{топ}\\)  \\\n",
       "0           1.1772        0.95866      0.93267              0.003563   \n",
       "10          1.1786        0.95624      0.93645              0.003575   \n",
       "20          1.1786        0.95370      0.93919              0.003580   \n",
       "30          1.1776        0.95101      0.94120              0.003584   \n",
       "40          1.1759        0.94817      0.94270              0.003587   \n",
       "\n",
       "    \\(\\Sigma_{a}^{зам}\\)  \\(\\nu_f\\Sigma_f\\)  \n",
       "0               0.003617                0.0  \n",
       "10              0.003629                0.0  \n",
       "20              0.003634                0.0  \n",
       "30              0.003638                0.0  \n",
       "40              0.003641                0.0  "
      ]
     },
     "metadata": {},
     "output_type": "display_data"
    },
    {
     "data": {
      "image/png": "[encoded data removed]",
      "text/plain": [
       "<Figure size 432x288 with 1 Axes>"
      ]
     },
     "metadata": {
      "needs_background": "light"
     },
     "output_type": "display_data"
    }
   ],
   "source": [
    "def lab61(step):\n",
    "    #меняем радиусы\n",
    "    getera.input({\n",
    "        'rcel(1,1)':[0.75],\n",
    "        'rcel(1,2)':[d/2 - delta_t, d/2, 1],\n",
    "        'rcel(1,3)':[4.8,7.4,8.5,11.5,14.5, step, 'rcin(3)=4.75'],\n",
    "    }, reg_exp=r'\\s+rcel\\(\\d,\\d\\)=')\n",
    "    \n",
    "    #меняем концентрации \n",
    "    getera.input({\n",
    "        'u235': [Rho1['U235'][0], 0,              0,              0],\n",
    "        'u238': [Rho1['U238'][0], 0,              0,              0],\n",
    "        'o':    [Rho1['O'][0],    0,              0,              0],\n",
    "        'zr':   [0,               Rho1['Zr'][0],  0,              0],\n",
    "        'd':    [0,               0,              Rho1['D'][0],   Rho1['D'][0]],\n",
    "        '*o*':  [0,               0,              Rho1['*O*'][0], Rho1['*O*'][0]]\n",
    "    })\n",
    "    \n",
    "    result = getera.output(format='pandas',\n",
    "                           columns=['keff', 'teta','fi', '3::sabs2',\n",
    "                                    '1::sabs2', '1::nusfis2'] )\n",
    "\n",
    "    return result\n",
    "acellRange2 = np.arange(15, 20, 0.1)\n",
    "results2 = find_opt(acellRange2, 'D_2O', lab61, is_plot=False)\n",
    "\n",
    "regr = KernelRidge(kernel='poly', alpha = 0.000008)\n",
    "regr.fit(acellRange2.reshape(-1, 1),results2['keff'].values.ravel())\n",
    "\n",
    "\n",
    "pl.plot(acellRange2, regr.predict(acellRange2.reshape(-1, 1)))\n",
    "pl.xlabel('a, cм')\n",
    "pl.ylabel('$K_{\\infty}$')\n",
    "pl.show()"
   ]
  },
  {
   "cell_type": "markdown",
   "metadata": {},
   "source": [
    "Общий график:"
   ]
  },
  {
   "cell_type": "code",
   "execution_count": 13,
   "metadata": {},
   "outputs": [
    {
     "data": {
      "image/png": "[encoded data removed]",
      "text/plain": [
       "<Figure size 432x288 with 1 Axes>"
      ]
     },
     "metadata": {
      "needs_background": "light"
     },
     "output_type": "display_data"
    }
   ],
   "source": [
    "pl.plot(acellRange, results1['keff'], label='$C, H_2O$')\n",
    "pl.plot(acellRange2, \n",
    "        regr.predict(acellRange2.reshape(-1, 1)), label='$D_2O$')\n",
    "pl.legend()\n",
    "pl.show()"
   ]
  }
 ],
 "metadata": {
  "kernelspec": {
   "display_name": "Python 3",
   "language": "python",
   "name": "python3"
  },
  "language_info": {
   "codemirror_mode": {
    "name": "ipython",
    "version": 3
   },
   "file_extension": ".py",
   "mimetype": "text/x-python",
   "name": "python",
   "nbconvert_exporter": "python",
   "pygments_lexer": "ipython3",
   "version": "3.8.5"
  }
 },
 "nbformat": 4,
 "nbformat_minor": 4
}

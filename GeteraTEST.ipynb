{
 "cells": [
  {
   "cell_type": "code",
   "execution_count": 1,
   "metadata": {
    "tags": []
   },
   "outputs": [],
   "source": [
    "import pyGetera\n",
    "import pandas as pd \n",
    "\n",
    "\n",
    "getera = pyGetera.GeteraInterface(getera_path = 'D:\\\\bin\\\\')\n",
    "getera.input_file = 'lab1.txt'\n",
    "getera.output_file ='lab1.out'\n",
    "\n"
   ]
  },
  {
   "cell_type": "code",
   "execution_count": 7,
   "metadata": {},
   "outputs": [
    {
     "output_type": "execute_result",
     "data": {
      "text/plain": [
       "2"
      ]
     },
     "metadata": {},
     "execution_count": 7
    }
   ],
   "source": [
    "\"3343\".find('4')"
   ]
  },
  {
   "cell_type": "code",
   "execution_count": 5,
   "metadata": {
    "tags": []
   },
   "outputs": [
    {
     "output_type": "error",
     "ename": "IndexError",
     "evalue": "list index out of range",
     "traceback": [
      "\u001b[1;31m---------------------------------------------------------------------------\u001b[0m",
      "\u001b[1;31mIndexError\u001b[0m                                Traceback (most recent call last)",
      "\u001b[1;32m<ipython-input-5-f452f9dee450>\u001b[0m in \u001b[0;36m<module>\u001b[1;34m\u001b[0m\n\u001b[0;32m     15\u001b[0m \u001b[1;33m\u001b[0m\u001b[0m\n\u001b[0;32m     16\u001b[0m \u001b[0mgetera\u001b[0m\u001b[1;33m.\u001b[0m\u001b[0minput\u001b[0m\u001b[1;33m(\u001b[0m\u001b[0mRho1\u001b[0m\u001b[1;33m[\u001b[0m\u001b[0mRho1\u001b[0m\u001b[1;33m.\u001b[0m\u001b[0mcolumns\u001b[0m\u001b[1;33m[\u001b[0m\u001b[1;36m3\u001b[0m\u001b[1;33m:\u001b[0m\u001b[1;33m-\u001b[0m\u001b[1;36m1\u001b[0m\u001b[1;33m]\u001b[0m\u001b[1;33m]\u001b[0m\u001b[1;33m.\u001b[0m\u001b[0mloc\u001b[0m\u001b[1;33m[\u001b[0m\u001b[1;36m0\u001b[0m\u001b[1;33m]\u001b[0m\u001b[1;33m,\u001b[0m \u001b[1;33m[\u001b[0m\u001b[1;34m't'\u001b[0m\u001b[1;33m,\u001b[0m\u001b[1;34m'U235'\u001b[0m\u001b[1;33m,\u001b[0m \u001b[1;34m'U238'\u001b[0m\u001b[1;33m,\u001b[0m \u001b[1;34m'O'\u001b[0m\u001b[1;33m,\u001b[0m \u001b[1;34m'D'\u001b[0m\u001b[1;33m]\u001b[0m\u001b[1;33m)\u001b[0m\u001b[1;33m\u001b[0m\u001b[1;33m\u001b[0m\u001b[0m\n\u001b[1;32m---> 17\u001b[1;33m \u001b[0mgetera\u001b[0m\u001b[1;33m.\u001b[0m\u001b[0moutput\u001b[0m\u001b[1;33m(\u001b[0m\u001b[1;33m)\u001b[0m\u001b[1;33m\u001b[0m\u001b[1;33m\u001b[0m\u001b[0m\n\u001b[0m",
      "\u001b[1;32mc:\\Users\\Maxoner\\Jupiter Python\\Лабы\\ТЯР\\pyGetera.py\u001b[0m in \u001b[0;36moutput\u001b[1;34m(self)\u001b[0m\n\u001b[0;32m    162\u001b[0m \u001b[1;33m\u001b[0m\u001b[0m\n\u001b[0;32m    163\u001b[0m         \u001b[0mxx\u001b[0m \u001b[1;33m=\u001b[0m \u001b[0mre\u001b[0m\u001b[1;33m.\u001b[0m\u001b[0mcompile\u001b[0m\u001b[1;33m(\u001b[0m\u001b[1;34mr'i *1 *\\d*.?\\d* * *\\d*.?\\d*'\u001b[0m\u001b[1;33m)\u001b[0m\u001b[1;33m\u001b[0m\u001b[1;33m\u001b[0m\u001b[0m\n\u001b[1;32m--> 164\u001b[1;33m         \u001b[0mRho\u001b[0m\u001b[1;33m[\u001b[0m\u001b[1;34m'Σ1→2'\u001b[0m\u001b[1;33m]\u001b[0m \u001b[1;33m=\u001b[0m \u001b[0mxx\u001b[0m\u001b[1;33m.\u001b[0m\u001b[0mfindall\u001b[0m\u001b[1;33m(\u001b[0m\u001b[0mfile\u001b[0m\u001b[1;33m)\u001b[0m\u001b[1;33m[\u001b[0m\u001b[1;36m0\u001b[0m\u001b[1;33m]\u001b[0m\u001b[1;33m.\u001b[0m\u001b[0msplit\u001b[0m\u001b[1;33m(\u001b[0m\u001b[1;34m'     '\u001b[0m\u001b[1;33m)\u001b[0m\u001b[1;33m[\u001b[0m\u001b[1;36m2\u001b[0m\u001b[1;33m]\u001b[0m\u001b[1;33m\u001b[0m\u001b[1;33m\u001b[0m\u001b[0m\n\u001b[0m\u001b[0;32m    165\u001b[0m         \u001b[1;32mreturn\u001b[0m \u001b[0mRho\u001b[0m\u001b[1;33m\u001b[0m\u001b[1;33m\u001b[0m\u001b[0m\n\u001b[0;32m    166\u001b[0m \u001b[1;33m\u001b[0m\u001b[0m\n",
      "\u001b[1;31mIndexError\u001b[0m: list index out of range"
     ]
    }
   ],
   "source": [
    "C = 200\n",
    "ptop0 = 10.97*6.02*10**(23)/269.928\n",
    "pzam01 = 1.1*6.02*10**(23)/20.028\n",
    "\n",
    "Rho1 = pd.DataFrame({'x':[1.2,1.3,1.4,1.5,1.6,1.7,1.8,2.0,3.6,3.6]})\n",
    "Rho1['pzam'] = C*pzam01*ptop0/(C*ptop0+pzam01)\n",
    "Rho1['ptop'] = pzam01*ptop0/(C*ptop0+pzam01)\n",
    "Rho1['T'] = 293.0\n",
    "Rho1['p5'] = (Rho1.x/100)*Rho1.ptop*10**(-24)\n",
    "Rho1['p8'] = (1-Rho1.x/100)*Rho1.ptop*10**(-24)\n",
    "Rho1['pO'] = 2*Rho1.ptop*10**(-24)\n",
    "Rho1['pD'] = 2*Rho1.pzam*10**(-24)\n",
    "Rho1['pO*'] = Rho1.pzam*10**(-24)\n",
    "Rho1['pEr'] = 0.0\n",
    "\n",
    "getera.input(Rho1[Rho1.columns[3:-1]].loc[0], ['t','U235', 'U238', 'O', 'D'])\n",
    "getera.output()"
   ]
  },
  {
   "cell_type": "code",
   "execution_count": 7,
   "metadata": {},
   "outputs": [
    {
     "output_type": "execute_result",
     "data": {
      "text/plain": [
       "T      293.000000\n",
       "p5       0.000000\n",
       "p8       0.000000\n",
       "pO       0.000328\n",
       "pD       0.065684\n",
       "pO*      0.032842\n",
       "Name: 0, dtype: float64"
      ]
     },
     "metadata": {},
     "execution_count": 7
    }
   ],
   "source": [
    "Rho1[Rho1.columns[3:-1]].loc[0]"
   ]
  },
  {
   "cell_type": "code",
   "execution_count": 7,
   "metadata": {},
   "outputs": [
    {
     "output_type": "execute_result",
     "data": {
      "text/plain": [
       "       U235      U238         O         D        O*\n",
       "0  0.000002  0.000162  0.000328  0.065684  0.032842\n",
       "1  0.000002  0.000162  0.000328  0.065684  0.032842\n",
       "2  0.000002  0.000162  0.000328  0.065684  0.032842\n",
       "3  0.000002  0.000162  0.000328  0.065684  0.032842\n",
       "4  0.000003  0.000162  0.000328  0.065684  0.032842\n",
       "5  0.000003  0.000161  0.000328  0.065684  0.032842\n",
       "6  0.000003  0.000161  0.000328  0.065684  0.032842\n",
       "7  0.000003  0.000161  0.000328  0.065684  0.032842\n",
       "8  0.000006  0.000158  0.000328  0.065684  0.032842\n",
       "9  0.000006  0.000158  0.000328  0.065684  0.032842"
      ],
      "text/html": "<div>\n<style scoped>\n    .dataframe tbody tr th:only-of-type {\n        vertical-align: middle;\n    }\n\n    .dataframe tbody tr th {\n        vertical-align: top;\n    }\n\n    .dataframe thead th {\n        text-align: right;\n    }\n</style>\n<table border=\"1\" class=\"dataframe\">\n  <thead>\n    <tr style=\"text-align: right;\">\n      <th></th>\n      <th>U235</th>\n      <th>U238</th>\n      <th>O</th>\n      <th>D</th>\n      <th>O*</th>\n    </tr>\n  </thead>\n  <tbody>\n    <tr>\n      <th>0</th>\n      <td>0.000002</td>\n      <td>0.000162</td>\n      <td>0.000328</td>\n      <td>0.065684</td>\n      <td>0.032842</td>\n    </tr>\n    <tr>\n      <th>1</th>\n      <td>0.000002</td>\n      <td>0.000162</td>\n      <td>0.000328</td>\n      <td>0.065684</td>\n      <td>0.032842</td>\n    </tr>\n    <tr>\n      <th>2</th>\n      <td>0.000002</td>\n      <td>0.000162</td>\n      <td>0.000328</td>\n      <td>0.065684</td>\n      <td>0.032842</td>\n    </tr>\n    <tr>\n      <th>3</th>\n      <td>0.000002</td>\n      <td>0.000162</td>\n      <td>0.000328</td>\n      <td>0.065684</td>\n      <td>0.032842</td>\n    </tr>\n    <tr>\n      <th>4</th>\n      <td>0.000003</td>\n      <td>0.000162</td>\n      <td>0.000328</td>\n      <td>0.065684</td>\n      <td>0.032842</td>\n    </tr>\n    <tr>\n      <th>5</th>\n      <td>0.000003</td>\n      <td>0.000161</td>\n      <td>0.000328</td>\n      <td>0.065684</td>\n      <td>0.032842</td>\n    </tr>\n    <tr>\n      <th>6</th>\n      <td>0.000003</td>\n      <td>0.000161</td>\n      <td>0.000328</td>\n      <td>0.065684</td>\n      <td>0.032842</td>\n    </tr>\n    <tr>\n      <th>7</th>\n      <td>0.000003</td>\n      <td>0.000161</td>\n      <td>0.000328</td>\n      <td>0.065684</td>\n      <td>0.032842</td>\n    </tr>\n    <tr>\n      <th>8</th>\n      <td>0.000006</td>\n      <td>0.000158</td>\n      <td>0.000328</td>\n      <td>0.065684</td>\n      <td>0.032842</td>\n    </tr>\n    <tr>\n      <th>9</th>\n      <td>0.000006</td>\n      <td>0.000158</td>\n      <td>0.000328</td>\n      <td>0.065684</td>\n      <td>0.032842</td>\n    </tr>\n  </tbody>\n</table>\n</div>"
     },
     "metadata": {},
     "execution_count": 7
    }
   ],
   "source": [
    "inputRho = Rho1[Rho1.columns[4:-1]]\n",
    "inputRho.columns = ['U235', 'U238','O', 'D', 'O*']\n",
    "inputRho"
   ]
  },
  {
   "cell_type": "code",
   "execution_count": 3,
   "metadata": {
    "tags": []
   },
   "outputs": [
    {
     "output_type": "execute_result",
     "data": {
      "text/plain": [
       "{'Σtot1': 0.2806849,\n",
       " 'Σabs1': 0.001023835,\n",
       " 'Σfis1': 3.133157e-05,\n",
       " 'νSf1': 7.84675e-05,\n",
       " 'D1': '1.365182',\n",
       " 'Σtot2': 0.3238041,\n",
       " 'Σabs2': 0.01101537,\n",
       " 'Σfis2': 0.004945452,\n",
       " 'νSf2': 0.01636582,\n",
       " 'D2': '1.033498',\n",
       " 'Σ1→2': '0.2427374'}"
      ]
     },
     "metadata": {},
     "execution_count": 3
    }
   ],
   "source": [
    "C = 200\n",
    "ptop0 = 10.97*6.02*10**(23)/269.928\n",
    "pzam01 = 1.1*6.02*10**(23)/20.028\n",
    "\n",
    "Rho1 = pd.DataFrame({'x':[1.2,1.3,1.4,1.5,1.6,1.7,1.8,2.0,3.6,3.6]})\n",
    "Rho1['pzam'] = C*pzam01*ptop0/(C*ptop0+pzam01)\n",
    "Rho1['ptop'] = pzam01*ptop0/(C*ptop0+pzam01)\n",
    "Rho1['T'] = 293.0\n",
    "Rho1['p5'] = (Rho1.x/100)*Rho1.ptop*10**(-24)\n",
    "Rho1['p8'] = (1-Rho1.x/100)*Rho1.ptop*10**(-24)\n",
    "Rho1['pO'] = 2*Rho1.ptop*10**(-24)\n",
    "Rho1['pD'] = 2*Rho1.pzam*10**(-24)\n",
    "Rho1['pO*'] = Rho1.pzam*10**(-24)\n",
    "Rho1['pEr'] = 0.0\n",
    "\n",
    "getera.input(Rho1[Rho1.columns[3:-1]].loc[0], ['t','U235', 'U238', 'O', 'D'])\n",
    "getera.output()"
   ]
  },
  {
   "cell_type": "code",
   "execution_count": 48,
   "metadata": {
    "tags": []
   },
   "outputs": [
    {
     "name": "stdout",
     "output_type": "stream",
     "text": [
      "*[@ ] *\\*?[UUO]\\d*\\*? *[@=] *\n",
      "[' @ U235  @   ', ' @ U238  @   ', ' @ O     @   ']\n"
     ]
    }
   ],
   "source": [
    "gui.input([1,2,3],['U235','U238','O'])"
   ]
  },
  {
   "cell_type": "code",
   "execution_count": 13,
   "metadata": {},
   "outputs": [
    {
     "data": {
      "text/plain": [
       "' *[@ ] *\\\\*?[itUU][g]?\\\\d*\\\\*? *[@=] *\\\\D{1,4}\\\\(?\\\\d?\\\\D?\\\\d?\\\\)?\\\\*? *[@=] *'"
      ]
     },
     "execution_count": 13,
     "metadata": {},
     "output_type": "execute_result"
    }
   ],
   "source": [
    "string = ','.join(['ig','t', 'U235', 'U238'])\n",
    "flag = False\n",
    "first = []\n",
    "second = []\n",
    "for i in string:\n",
    "    if i==',':\n",
    "        flag = False\n",
    "    elif i.isdigit():\n",
    "        continue\n",
    "    elif flag:\n",
    "        second.append(i)\n",
    "        flag = False\n",
    "    else:\n",
    "        first.append(i) \n",
    "        flag = True\n",
    "ll = ''\n",
    "reg_exp = f' *[@ ] *\\*?[{ ll.join(first) }][{ ll.join(second) }]?\\d*\\*? *[@=] *' \n",
    "tail = '\\D{1,4}\\(?\\d?\\D?\\d?\\)?\\*? *[@=] *'\n",
    "reg_exp += tail\n",
    "reg_exp\n"
   ]
  },
  {
   "cell_type": "code",
   "execution_count": 42,
   "metadata": {},
   "outputs": [
    {
     "data": {
      "text/plain": [
       "['256']"
      ]
     },
     "execution_count": 42,
     "metadata": {},
     "output_type": "execute_result"
    }
   ],
   "source": [
    "import re\n",
    "a = re.compile(r'U(256)')\n",
    "a.findall('U256, Er, U258, T')"
   ]
  }
 ],
 "metadata": {
  "kernelspec": {
   "display_name": "Python 3",
   "language": "python",
   "name": "python3"
  },
  "language_info": {
   "codemirror_mode": {
    "name": "ipython",
    "version": 3
   },
   "file_extension": ".py",
   "mimetype": "text/x-python",
   "name": "python",
   "nbconvert_exporter": "python",
   "pygments_lexer": "ipython3",
   "version": "3.7.9-final"
  }
 },
 "nbformat": 4,
 "nbformat_minor": 4
}
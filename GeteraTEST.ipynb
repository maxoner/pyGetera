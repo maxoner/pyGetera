{
 "cells": [
  {
   "cell_type": "markdown",
   "metadata": {},
   "source": [
    "# Markdown font\n",
    "\n",
    "Он очень некрасивый $\\int e^{-i \\omega x} d x$\n"
   ]
  },
  {
   "cell_type": "code",
   "execution_count": 1,
   "metadata": {
    "tags": []
   },
   "outputs": [
    {
     "output_type": "error",
     "ename": "SyntaxError",
     "evalue": "invalid syntax (pyGetera.py, line 198)",
     "traceback": [
      "Traceback \u001b[1;36m(most recent call last)\u001b[0m:\n",
      "  File \u001b[0;32m\"C:\\Users\\maxon\\miniconda3\\lib\\site-packages\\IPython\\core\\interactiveshell.py\"\u001b[0m, line \u001b[0;32m3418\u001b[0m, in \u001b[0;35mrun_code\u001b[0m\n    exec(code_obj, self.user_global_ns, self.user_ns)\n",
      "\u001b[1;36m  File \u001b[1;32m\"<ipython-input-1-3765afa7ac6f>\"\u001b[1;36m, line \u001b[1;32m1\u001b[1;36m, in \u001b[1;35m<module>\u001b[1;36m\u001b[0m\n\u001b[1;33m    import pyGetera\u001b[0m\n",
      "\u001b[1;36m  File \u001b[1;32m\"d:\\Знания\\учебный склад\\3 курс\\ТЯР\\Лабы Увакина\\pyGetera.py\"\u001b[1;36m, line \u001b[1;32m198\u001b[0m\n\u001b[1;33m    if(parsed_file[line+j] == '\\n')\u001b[0m\n\u001b[1;37m                                   ^\u001b[0m\n\u001b[1;31mSyntaxError\u001b[0m\u001b[1;31m:\u001b[0m invalid syntax\n"
     ]
    }
   ],
   "source": [
    "import pyGetera\n",
    "import pandas as pd \n",
    "\n",
    "\n",
    "getera = pyGetera.GeteraInterface(\n",
    "    getera_path = 'D:\\\\bin\\\\',\n",
    "    input_file = 'lab5.txt',\n",
    "    output_file ='lab5.out')\n",
    "getera.colls = 3\n",
    "getera.output()"
   ]
  },
  {
   "cell_type": "code",
   "execution_count": 3,
   "metadata": {},
   "outputs": [
    {
     "output_type": "execute_result",
     "data": {
      "text/plain": [
       "range(0, 1)"
      ]
     },
     "metadata": {},
     "execution_count": 3
    }
   ],
   "source": [
    "range(1)"
   ]
  },
  {
   "cell_type": "code",
   "execution_count": 11,
   "metadata": {},
   "outputs": [
    {
     "output_type": "execute_result",
     "data": {
      "text/plain": [
       "1"
      ]
     },
     "metadata": {},
     "execution_count": 11
    }
   ],
   "source": [
    "\"\"\"\n",
    "aa\n",
    "dfdsf\n",
    "sass\n",
    "asd\n",
    "asda\n",
    "\"\"\".find('a')"
   ]
  },
  {
   "cell_type": "code",
   "execution_count": 2,
   "metadata": {
    "scrolled": false,
    "tags": []
   },
   "outputs": [
    {
     "output_type": "stream",
     "name": "stdout",
     "text": [
      "{'keff': 0.0042432, 'nu': 0.0, 'mu': 10000000000.0, 'fi': 0.74451, 'teta': 1.0, 'Σtot1': 0.3558344, 'Σabs1': 0.001109869, 'Σfis1': 6.643456e-06, 'νSf1': 1.839519e-05, 'D1': '1.077269'}\n",
      "{'keff': 0.0042406, 'nu': 0.0, 'mu': 10000000000.0, 'fi': 0.74458, 'teta': 1.0, 'Σtot1': 0.3558333, 'Σabs1': 0.001109508, 'Σfis1': 6.639279e-06, 'νSf1': 1.838362e-05, 'D1': '1.077270'}\n",
      "{'keff': 0.0042354, 'nu': 0.0, 'mu': 10000000000.0, 'fi': 0.74474, 'teta': 1.0, 'Σtot1': 0.3558309, 'Σabs1': 0.001108786, 'Σfis1': 6.630935e-06, 'νSf1': 1.836051e-05, 'D1': '1.077273'}\n",
      "{'keff': 0.0042303, 'nu': 0.0, 'mu': 10000000000.0, 'fi': 0.7449, 'teta': 1.0, 'Σtot1': 0.3558286, 'Σabs1': 0.001108064, 'Σfis1': 6.62259e-06, 'νSf1': 1.83374e-05, 'D1': '1.077276'}\n",
      "{'keff': 0.0042277, 'nu': 0.0, 'mu': 10000000000.0, 'fi': 0.74498, 'teta': 1.0, 'Σtot1': 0.3558275, 'Σabs1': 0.001107702, 'Σfis1': 6.618417e-06, 'νSf1': 1.832585e-05, 'D1': '1.077277'}\n",
      "{'keff': 0.0042225, 'nu': 0.0, 'mu': 10000000000.0, 'fi': 0.74513, 'teta': 1.0, 'Σtot1': 0.3558252, 'Σabs1': 0.001106979, 'Σfis1': 6.610073e-06, 'νSf1': 1.830274e-05, 'D1': '1.077280'}\n",
      "{'keff': 0.0042199, 'nu': 0.0, 'mu': 10000000000.0, 'fi': 0.74521, 'teta': 1.0, 'Σtot1': 0.355824, 'Σabs1': 0.001106617, 'Σfis1': 6.605902e-06, 'νSf1': 1.829119e-05, 'D1': '1.077281'}\n",
      "{'keff': 0.0042096, 'nu': 0.0, 'mu': 10000000000.0, 'fi': 0.74553, 'teta': 1.0, 'Σtot1': 0.3558194, 'Σabs1': 0.001105169, 'Σfis1': 6.589206e-06, 'νSf1': 1.824496e-05, 'D1': '1.077287'}\n",
      "{'keff': 0.0041423, 'nu': 0.0, 'mu': 10000000000.0, 'fi': 0.74758, 'teta': 1.0, 'Σtot1': 0.3557892, 'Σabs1': 0.001095694, 'Σfis1': 6.480751e-06, 'νSf1': 1.794463e-05, 'D1': '1.077322'}\n",
      "{'keff': 0.0041423, 'nu': 0.0, 'mu': 10000000000.0, 'fi': 0.74758, 'teta': 1.0, 'Σtot1': 0.3557892, 'Σabs1': 0.001095694, 'Σfis1': 6.480751e-06, 'νSf1': 1.794463e-05, 'D1': '1.077322'}\n"
     ]
    }
   ],
   "source": [
    "C = 200\n",
    "ptop0 = 10.97*6.02*10**(23)/269.928\n",
    "pzam01 = 1.1*6.02*10**(23)/20.028\n",
    "\n",
    "Rho1 = pd.DataFrame({'x':[1.2,1.3,1.4,1.5,1.6,1.7,1.8,2.0,3.6,3.6]})\n",
    "Rho1['pzam'] = C*pzam01*ptop0/(C*ptop0+pzam01)\n",
    "Rho1['ptop'] = pzam01*ptop0/(C*ptop0+pzam01)\n",
    "Rho1['t'] = 293.0\n",
    "Rho1['U235'] = 0*(Rho1.x/100)*Rho1.ptop*10**(-24)\n",
    "Rho1['U238'] = (1-Rho1.x/100)*Rho1.ptop*10**(-24)\n",
    "Rho1['O'] =2*Rho1.ptop*10**(-24)\n",
    "Rho1['C'] = 2*Rho1.pzam*10**(-24)\n",
    "i = 0\n",
    "\n",
    "\n",
    "\n",
    "for i in range(Rho1.shape[0]):\n",
    "    getera.input(dict(Rho1[Rho1.columns[3:-2]].loc[i]))\n",
    "    print(getera.output())"
   ]
  },
  {
   "cell_type": "code",
   "execution_count": 13,
   "metadata": {},
   "outputs": [
    {
     "name": "stdout",
     "output_type": "stream",
     "text": [
      "[' @ U235  @   ', ' @ U238  @   ']\n",
      "[5.0, 3.0, 1.0]\n",
      "[1.1, 3.1, 4.1]\n"
     ]
    }
   ],
   "source": [
    "getera5 = pyGetera.GeteraInterface(\n",
    "    getera_path = 'D:\\\\Знания\\\\учебный склад\\\\3 курс\\\\ТЯР\\\\GETERA\\\\',\n",
    "    input_file = 'lab5.txt',\n",
    "    output_file ='lab5.out')\n",
    "\n",
    "getera5.input({\n",
    "    'U235':[5.0, 3.0, 1.0],\n",
    "    'O':[1.1,3.1,4.1]\n",
    "})"
   ]
  },
  {
   "cell_type": "code",
   "execution_count": 7,
   "metadata": {},
   "outputs": [
    {
     "data": {
      "text/plain": [
       "' *[@ ] *\\\\*?[U]\\\\*? *[@=] *\\\\s*'"
      ]
     },
     "execution_count": 7,
     "metadata": {},
     "output_type": "execute_result"
    }
   ],
   "source": [
    "        def gen_regexp(strings:str) -> str:\n",
    "            \"\"\"\n",
    "            Генерирует регулярное выражение из массива \n",
    "            строк strings\n",
    "            \"\"\"\n",
    "            string = ','.join(strings)\n",
    "            flag = False\n",
    "            first = []                                  \n",
    "            second = []\n",
    "            for i in string:\n",
    "                if i == ',':\n",
    "                    flag = False\n",
    "                elif i.isdigit(): \n",
    "                    continue\n",
    "                elif flag:\n",
    "                    second.append(i)\n",
    "                    flag = False\n",
    "                else:\n",
    "                    first.append(i) \n",
    "                    flag = True\n",
    "            ll = ''\n",
    "            reg_exp = f' *[@ ] *\\*?[{ ll.join(first) }][{ ll.join(second) }]?\\*? *[@=] *\\s*' \n",
    "            if len(second) == 0:\n",
    "                reg_exp = reg_exp.replace('[]?','')\n",
    "            #tail = '\\D{1,4}\\(?\\d?\\D?\\d?\\)?\\*? *[@=] *'\n",
    "            #tail = ' *[@=] *'\n",
    "            #reg_exp += tail\n",
    "            #reg_exp\n",
    "            return reg_exp\n",
    "gen_regexp('U235')"
   ]
  },
  {
   "cell_type": "code",
   "execution_count": 5,
   "metadata": {},
   "outputs": [
    {
     "data": {
      "text/plain": [
       "[1]"
      ]
     },
     "execution_count": 5,
     "metadata": {},
     "output_type": "execute_result"
    }
   ],
   "source": [
    "[1]"
   ]
  },
  {
   "cell_type": "code",
   "execution_count": 28,
   "metadata": {},
   "outputs": [
    {
     "data": {
      "text/plain": [
       "Index(['t', 'U235', 'U238', 'O', 'D'], dtype='object')"
      ]
     },
     "execution_count": 28,
     "metadata": {},
     "output_type": "execute_result"
    }
   ],
   "source": [
    "Rho1[Rho1.columns[3:-2]].loc[i].index"
   ]
  },
  {
   "cell_type": "code",
   "execution_count": 18,
   "metadata": {},
   "outputs": [
    {
     "data": {
      "text/plain": [
       "True"
      ]
     },
     "execution_count": 18,
     "metadata": {},
     "output_type": "execute_result"
    }
   ],
   "source": [
    "type([]) == list"
   ]
  },
  {
   "cell_type": "code",
   "execution_count": 7,
   "metadata": {},
   "outputs": [
    {
     "data": {
      "text/html": [
       "<div>\n",
       "<style scoped>\n",
       "    .dataframe tbody tr th:only-of-type {\n",
       "        vertical-align: middle;\n",
       "    }\n",
       "\n",
       "    .dataframe tbody tr th {\n",
       "        vertical-align: top;\n",
       "    }\n",
       "\n",
       "    .dataframe thead th {\n",
       "        text-align: right;\n",
       "    }\n",
       "</style>\n",
       "<table border=\"1\" class=\"dataframe\">\n",
       "  <thead>\n",
       "    <tr style=\"text-align: right;\">\n",
       "      <th></th>\n",
       "      <th>U235</th>\n",
       "      <th>U238</th>\n",
       "      <th>O</th>\n",
       "      <th>D</th>\n",
       "      <th>O*</th>\n",
       "    </tr>\n",
       "  </thead>\n",
       "  <tbody>\n",
       "    <tr>\n",
       "      <th>0</th>\n",
       "      <td>0.000002</td>\n",
       "      <td>0.000162</td>\n",
       "      <td>0.000328</td>\n",
       "      <td>0.065684</td>\n",
       "      <td>0.032842</td>\n",
       "    </tr>\n",
       "    <tr>\n",
       "      <th>1</th>\n",
       "      <td>0.000002</td>\n",
       "      <td>0.000162</td>\n",
       "      <td>0.000328</td>\n",
       "      <td>0.065684</td>\n",
       "      <td>0.032842</td>\n",
       "    </tr>\n",
       "    <tr>\n",
       "      <th>2</th>\n",
       "      <td>0.000002</td>\n",
       "      <td>0.000162</td>\n",
       "      <td>0.000328</td>\n",
       "      <td>0.065684</td>\n",
       "      <td>0.032842</td>\n",
       "    </tr>\n",
       "    <tr>\n",
       "      <th>3</th>\n",
       "      <td>0.000002</td>\n",
       "      <td>0.000162</td>\n",
       "      <td>0.000328</td>\n",
       "      <td>0.065684</td>\n",
       "      <td>0.032842</td>\n",
       "    </tr>\n",
       "    <tr>\n",
       "      <th>4</th>\n",
       "      <td>0.000003</td>\n",
       "      <td>0.000162</td>\n",
       "      <td>0.000328</td>\n",
       "      <td>0.065684</td>\n",
       "      <td>0.032842</td>\n",
       "    </tr>\n",
       "    <tr>\n",
       "      <th>5</th>\n",
       "      <td>0.000003</td>\n",
       "      <td>0.000161</td>\n",
       "      <td>0.000328</td>\n",
       "      <td>0.065684</td>\n",
       "      <td>0.032842</td>\n",
       "    </tr>\n",
       "    <tr>\n",
       "      <th>6</th>\n",
       "      <td>0.000003</td>\n",
       "      <td>0.000161</td>\n",
       "      <td>0.000328</td>\n",
       "      <td>0.065684</td>\n",
       "      <td>0.032842</td>\n",
       "    </tr>\n",
       "    <tr>\n",
       "      <th>7</th>\n",
       "      <td>0.000003</td>\n",
       "      <td>0.000161</td>\n",
       "      <td>0.000328</td>\n",
       "      <td>0.065684</td>\n",
       "      <td>0.032842</td>\n",
       "    </tr>\n",
       "    <tr>\n",
       "      <th>8</th>\n",
       "      <td>0.000006</td>\n",
       "      <td>0.000158</td>\n",
       "      <td>0.000328</td>\n",
       "      <td>0.065684</td>\n",
       "      <td>0.032842</td>\n",
       "    </tr>\n",
       "    <tr>\n",
       "      <th>9</th>\n",
       "      <td>0.000006</td>\n",
       "      <td>0.000158</td>\n",
       "      <td>0.000328</td>\n",
       "      <td>0.065684</td>\n",
       "      <td>0.032842</td>\n",
       "    </tr>\n",
       "  </tbody>\n",
       "</table>\n",
       "</div>"
      ],
      "text/plain": [
       "       U235      U238         O         D        O*\n",
       "0  0.000002  0.000162  0.000328  0.065684  0.032842\n",
       "1  0.000002  0.000162  0.000328  0.065684  0.032842\n",
       "2  0.000002  0.000162  0.000328  0.065684  0.032842\n",
       "3  0.000002  0.000162  0.000328  0.065684  0.032842\n",
       "4  0.000003  0.000162  0.000328  0.065684  0.032842\n",
       "5  0.000003  0.000161  0.000328  0.065684  0.032842\n",
       "6  0.000003  0.000161  0.000328  0.065684  0.032842\n",
       "7  0.000003  0.000161  0.000328  0.065684  0.032842\n",
       "8  0.000006  0.000158  0.000328  0.065684  0.032842\n",
       "9  0.000006  0.000158  0.000328  0.065684  0.032842"
      ]
     },
     "execution_count": 7,
     "metadata": {},
     "output_type": "execute_result"
    }
   ],
   "source": [
    "inputRho = Rho1[Rho1.columns[4:-1]]\n",
    "inputRho.columns = ['U235', 'U238','O', 'D', 'O*']\n",
    "inputRho"
   ]
  },
  {
   "cell_type": "code",
   "execution_count": 10,
   "metadata": {
    "tags": []
   },
   "outputs": [
    {
     "data": {
      "text/plain": [
       "{'Σtot1': 0.3562511,\n",
       " 'Σabs1': 0.001146408,\n",
       " 'Σfis1': 3.155204e-05,\n",
       " 'νSf1': 7.899197e-05,\n",
       " 'D1': '1.074820',\n",
       " 'Σtot2': 0.4111423,\n",
       " 'Σabs2': 0.01360078,\n",
       " 'Σfis2': 0.005892128,\n",
       " 'νSf2': 0.01962913,\n",
       " 'D2': '0.8132778',\n",
       " 'Σ1→2': '0.3182108'}"
      ]
     },
     "execution_count": 10,
     "metadata": {},
     "output_type": "execute_result"
    }
   ],
   "source": [
    "C = 200\n",
    "ptop0 = 10.97*6.02*10**(23)/269.928\n",
    "pzam01 = 1.1*6.02*10**(23)/20.028\n",
    "\n",
    "Rho1 = pd.DataFrame({'x':[1.2,1.3,1.4,1.5,1.6,1.7,1.8,2.0,3.6,3.6]})\n",
    "Rho1['pzam'] = C*pzam01*ptop0/(C*ptop0+pzam01)\n",
    "Rho1['ptop'] = pzam01*ptop0/(C*ptop0+pzam01)\n",
    "Rho1['T'] = 293.0\n",
    "Rho1['p5'] = (Rho1.x/100)*Rho1.ptop*10**(-24)\n",
    "Rho1['p8'] = (1-Rho1.x/100)*Rho1.ptop*10**(-24)\n",
    "Rho1['pO'] = 2*Rho1.ptop*10**(-24)\n",
    "Rho1['pD'] = 2*Rho1.pzam*10**(-24)\n",
    "Rho1['pO*'] = Rho1.pzam*10**(-24)\n",
    "Rho1['pEr'] = 0.0\n",
    "\n",
    "getera.input(Rho1[Rho1.columns[3:-1]].loc[0], ['t','U235', 'U238', 'O', 'D'])\n",
    "getera.output()"
   ]
  },
  {
   "cell_type": "code",
   "execution_count": 48,
   "metadata": {
    "tags": []
   },
   "outputs": [
    {
     "name": "stdout",
     "output_type": "stream",
     "text": [
      "*[@ ] *\\*?[UUO]\\d*\\*? *[@=] *\n",
      "[' @ U235  @   ', ' @ U238  @   ', ' @ O     @   ']\n"
     ]
    }
   ],
   "source": [
    "gui.input([1,2,3],['U235','U238','O'])"
   ]
  },
  {
   "cell_type": "code",
   "execution_count": 13,
   "metadata": {},
   "outputs": [
    {
     "data": {
      "text/plain": [
       "' *[@ ] *\\\\*?[itUU][g]?\\\\d*\\\\*? *[@=] *\\\\D{1,4}\\\\(?\\\\d?\\\\D?\\\\d?\\\\)?\\\\*? *[@=] *'"
      ]
     },
     "execution_count": 13,
     "metadata": {},
     "output_type": "execute_result"
    }
   ],
   "source": [
    "string = ','.join(['ig','t', 'U235', 'U238'])\n",
    "flag = False\n",
    "first = []\n",
    "second = []\n",
    "for i in string:\n",
    "    if i==',':\n",
    "        flag = False\n",
    "    elif i.isdigit():\n",
    "        continue\n",
    "    elif flag:\n",
    "        second.append(i)\n",
    "        flag = False\n",
    "    else:\n",
    "        first.append(i) \n",
    "        flag = True\n",
    "ll = ''\n",
    "reg_exp = f' *[@ ] *\\*?[{ ll.join(first) }][{ ll.join(second) }]?\\d*\\*? *[@=] *' \n",
    "tail = '\\D{1,4}\\(?\\d?\\D?\\d?\\)?\\*? *[@=] *'\n",
    "reg_exp += tail\n",
    "reg_exp\n"
   ]
  },
  {
   "cell_type": "code",
   "execution_count": 42,
   "metadata": {},
   "outputs": [
    {
     "data": {
      "text/plain": [
       "['256']"
      ]
     },
     "execution_count": 42,
     "metadata": {},
     "output_type": "execute_result"
    }
   ],
   "source": [
    "import re\n",
    "a = re.compile(r'U(256)')\n",
    "a.findall('U256, Er, U258, T')"
   ]
  }
 ],
 "metadata": {
  "kernelspec": {
   "display_name": "Python 3",
   "language": "python",
   "name": "python3"
  },
  "language_info": {
   "codemirror_mode": {
    "name": "ipython",
    "version": 3
   },
   "file_extension": ".py",
   "mimetype": "text/x-python",
   "name": "python",
   "nbconvert_exporter": "python",
   "pygments_lexer": "ipython3",
   "version": "3.8.5-final"
  }
 },
 "nbformat": 4,
 "nbformat_minor": 4
}
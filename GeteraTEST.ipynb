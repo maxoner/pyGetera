{
 "cells": [
  {
   "cell_type": "code",
   "execution_count": 1,
   "metadata": {
    "tags": []
   },
   "outputs": [],
   "source": [
    "import pyGetera\n",
    "import pandas as pd \n",
    "\n",
    "\n",
    "getera = pyGetera.GeteraInterface(getera_path = 'D:\\\\bin\\\\')\n",
    "getera.input_file = 'lab1.txt'\n",
    "getera.output_file ='lab1.out'\n",
    "\n"
   ]
  },
  {
   "cell_type": "code",
   "execution_count": 7,
   "metadata": {},
   "outputs": [
    {
     "output_type": "execute_result",
     "data": {
      "text/plain": [
       "2"
      ]
     },
     "metadata": {},
     "execution_count": 7
    }
   ],
   "source": [
    "\"3343\".find('4')"
   ]
  },
  {
   "cell_type": "code",
   "execution_count": 2,
   "metadata": {
    "tags": []
   },
   "outputs": [
    {
     "output_type": "stream",
     "name": "stdout",
     "text": [
      "293.0\n['293.0']\n293.0\n2.966e-07\n['2.966e-07']\n2.966e-07\n4.148e-05\n['4.148e-05']\n4.148e-05\n8.356e-05\n['8.356e-05']\n8.356e-05\n *****          file of input data set *******\n:poly\n &vvod\n   ig=3,\n   rcel(1,1)=1.0, \n   ncelsos(1,1)=1,                                       \n@----------------------------------------------------------------------\n t=293.0, \n troiz=\n @ izotop    / concentration /      \n @ U235  @   2.966e-07, \n @ U238  @   4.148e-05, \n @ O     @   8.356e-05,\n @ C    @   8.356e-02,   \n@----------------------------------------------------------------------\n material(1)='chmc',\n &end\nU235\nU238\nO\nC\n****\n:corr\n &vvod &end\n:fier\n &vvod &end\n:macro                                                                  \n &vvod                                                                  \n  ET=10.5E+6,2.15,2.15,0.,                                              \n &end                                                                   \n:micro                                                                  \n &vvod                                                                  \n  ET=10.5E+6,2.15,2.15,0.,                                              \n &end                                                                   \n:stop\n@----------------------------------------------------------------------\n"
     ]
    }
   ],
   "source": [
    "C = 200\n",
    "ptop0 = 10.97*6.02*10**(23)/269.928\n",
    "pzam01 = 1.1*6.02*10**(23)/20.028\n",
    "\n",
    "Rho1 = pd.DataFrame({'x':[1.2,1.3,1.4,1.5,1.6,1.7,1.8,2.0,3.6,3.6]})\n",
    "Rho1['pzam'] = C*pzam01*ptop0/(C*ptop0+pzam01)\n",
    "Rho1['ptop'] = pzam01*ptop0/(C*ptop0+pzam01)\n",
    "Rho1['T'] = 293.0\n",
    "Rho1['p5'] = 0*(Rho1.x/100)*Rho1.ptop*10**(-24)\n",
    "Rho1['p8'] = 0*(1-Rho1.x/100)*Rho1.ptop*10**(-24)\n",
    "Rho1['pO'] = 2*Rho1.ptop*10**(-24)\n",
    "Rho1['pD'] = 2*Rho1.pzam*10**(-24)\n",
    "Rho1['pO*'] = Rho1.pzam*10**(-24)\n",
    "Rho1['pEr'] = 0.0\n",
    "\n",
    "getera.input(Rho1[Rho1.columns[3:-1]].loc[0], ['t','U235', 'U238', 'O', 'D'])\n",
    "#getera.output()"
   ]
  },
  {
   "cell_type": "code",
   "execution_count": 5,
   "metadata": {},
   "outputs": [
    {
     "output_type": "execute_result",
     "data": {
      "text/plain": [
       "[0]"
      ]
     },
     "metadata": {},
     "execution_count": 5
    }
   ],
   "source": [
    "list(range(len([1])))"
   ]
  },
  {
   "cell_type": "code",
   "execution_count": 7,
   "metadata": {},
   "outputs": [
    {
     "output_type": "execute_result",
     "data": {
      "text/plain": [
       "       U235      U238         O         D        O*\n",
       "0  0.000002  0.000162  0.000328  0.065684  0.032842\n",
       "1  0.000002  0.000162  0.000328  0.065684  0.032842\n",
       "2  0.000002  0.000162  0.000328  0.065684  0.032842\n",
       "3  0.000002  0.000162  0.000328  0.065684  0.032842\n",
       "4  0.000003  0.000162  0.000328  0.065684  0.032842\n",
       "5  0.000003  0.000161  0.000328  0.065684  0.032842\n",
       "6  0.000003  0.000161  0.000328  0.065684  0.032842\n",
       "7  0.000003  0.000161  0.000328  0.065684  0.032842\n",
       "8  0.000006  0.000158  0.000328  0.065684  0.032842\n",
       "9  0.000006  0.000158  0.000328  0.065684  0.032842"
      ],
      "text/html": "<div>\n<style scoped>\n    .dataframe tbody tr th:only-of-type {\n        vertical-align: middle;\n    }\n\n    .dataframe tbody tr th {\n        vertical-align: top;\n    }\n\n    .dataframe thead th {\n        text-align: right;\n    }\n</style>\n<table border=\"1\" class=\"dataframe\">\n  <thead>\n    <tr style=\"text-align: right;\">\n      <th></th>\n      <th>U235</th>\n      <th>U238</th>\n      <th>O</th>\n      <th>D</th>\n      <th>O*</th>\n    </tr>\n  </thead>\n  <tbody>\n    <tr>\n      <th>0</th>\n      <td>0.000002</td>\n      <td>0.000162</td>\n      <td>0.000328</td>\n      <td>0.065684</td>\n      <td>0.032842</td>\n    </tr>\n    <tr>\n      <th>1</th>\n      <td>0.000002</td>\n      <td>0.000162</td>\n      <td>0.000328</td>\n      <td>0.065684</td>\n      <td>0.032842</td>\n    </tr>\n    <tr>\n      <th>2</th>\n      <td>0.000002</td>\n      <td>0.000162</td>\n      <td>0.000328</td>\n      <td>0.065684</td>\n      <td>0.032842</td>\n    </tr>\n    <tr>\n      <th>3</th>\n      <td>0.000002</td>\n      <td>0.000162</td>\n      <td>0.000328</td>\n      <td>0.065684</td>\n      <td>0.032842</td>\n    </tr>\n    <tr>\n      <th>4</th>\n      <td>0.000003</td>\n      <td>0.000162</td>\n      <td>0.000328</td>\n      <td>0.065684</td>\n      <td>0.032842</td>\n    </tr>\n    <tr>\n      <th>5</th>\n      <td>0.000003</td>\n      <td>0.000161</td>\n      <td>0.000328</td>\n      <td>0.065684</td>\n      <td>0.032842</td>\n    </tr>\n    <tr>\n      <th>6</th>\n      <td>0.000003</td>\n      <td>0.000161</td>\n      <td>0.000328</td>\n      <td>0.065684</td>\n      <td>0.032842</td>\n    </tr>\n    <tr>\n      <th>7</th>\n      <td>0.000003</td>\n      <td>0.000161</td>\n      <td>0.000328</td>\n      <td>0.065684</td>\n      <td>0.032842</td>\n    </tr>\n    <tr>\n      <th>8</th>\n      <td>0.000006</td>\n      <td>0.000158</td>\n      <td>0.000328</td>\n      <td>0.065684</td>\n      <td>0.032842</td>\n    </tr>\n    <tr>\n      <th>9</th>\n      <td>0.000006</td>\n      <td>0.000158</td>\n      <td>0.000328</td>\n      <td>0.065684</td>\n      <td>0.032842</td>\n    </tr>\n  </tbody>\n</table>\n</div>"
     },
     "metadata": {},
     "execution_count": 7
    }
   ],
   "source": [
    "inputRho = Rho1[Rho1.columns[4:-1]]\n",
    "inputRho.columns = ['U235', 'U238','O', 'D', 'O*']\n",
    "inputRho"
   ]
  },
  {
   "cell_type": "code",
   "execution_count": 3,
   "metadata": {
    "tags": []
   },
   "outputs": [
    {
     "output_type": "execute_result",
     "data": {
      "text/plain": [
       "{'Σtot1': 0.2806849,\n",
       " 'Σabs1': 0.001023835,\n",
       " 'Σfis1': 3.133157e-05,\n",
       " 'νSf1': 7.84675e-05,\n",
       " 'D1': '1.365182',\n",
       " 'Σtot2': 0.3238041,\n",
       " 'Σabs2': 0.01101537,\n",
       " 'Σfis2': 0.004945452,\n",
       " 'νSf2': 0.01636582,\n",
       " 'D2': '1.033498',\n",
       " 'Σ1→2': '0.2427374'}"
      ]
     },
     "metadata": {},
     "execution_count": 3
    }
   ],
   "source": [
    "C = 200\n",
    "ptop0 = 10.97*6.02*10**(23)/269.928\n",
    "pzam01 = 1.1*6.02*10**(23)/20.028\n",
    "\n",
    "Rho1 = pd.DataFrame({'x':[1.2,1.3,1.4,1.5,1.6,1.7,1.8,2.0,3.6,3.6]})\n",
    "Rho1['pzam'] = C*pzam01*ptop0/(C*ptop0+pzam01)\n",
    "Rho1['ptop'] = pzam01*ptop0/(C*ptop0+pzam01)\n",
    "Rho1['T'] = 293.0\n",
    "Rho1['p5'] = (Rho1.x/100)*Rho1.ptop*10**(-24)\n",
    "Rho1['p8'] = (1-Rho1.x/100)*Rho1.ptop*10**(-24)\n",
    "Rho1['pO'] = 2*Rho1.ptop*10**(-24)\n",
    "Rho1['pD'] = 2*Rho1.pzam*10**(-24)\n",
    "Rho1['pO*'] = Rho1.pzam*10**(-24)\n",
    "Rho1['pEr'] = 0.0\n",
    "\n",
    "getera.input(Rho1[Rho1.columns[3:-1]].loc[0], ['t','U235', 'U238', 'O', 'D'])\n",
    "getera.output()"
   ]
  },
  {
   "cell_type": "code",
   "execution_count": 48,
   "metadata": {
    "tags": []
   },
   "outputs": [
    {
     "name": "stdout",
     "output_type": "stream",
     "text": [
      "*[@ ] *\\*?[UUO]\\d*\\*? *[@=] *\n",
      "[' @ U235  @   ', ' @ U238  @   ', ' @ O     @   ']\n"
     ]
    }
   ],
   "source": [
    "gui.input([1,2,3],['U235','U238','O'])"
   ]
  },
  {
   "cell_type": "code",
   "execution_count": 13,
   "metadata": {},
   "outputs": [
    {
     "data": {
      "text/plain": [
       "' *[@ ] *\\\\*?[itUU][g]?\\\\d*\\\\*? *[@=] *\\\\D{1,4}\\\\(?\\\\d?\\\\D?\\\\d?\\\\)?\\\\*? *[@=] *'"
      ]
     },
     "execution_count": 13,
     "metadata": {},
     "output_type": "execute_result"
    }
   ],
   "source": [
    "string = ','.join(['ig','t', 'U235', 'U238'])\n",
    "flag = False\n",
    "first = []\n",
    "second = []\n",
    "for i in string:\n",
    "    if i==',':\n",
    "        flag = False\n",
    "    elif i.isdigit():\n",
    "        continue\n",
    "    elif flag:\n",
    "        second.append(i)\n",
    "        flag = False\n",
    "    else:\n",
    "        first.append(i) \n",
    "        flag = True\n",
    "ll = ''\n",
    "reg_exp = f' *[@ ] *\\*?[{ ll.join(first) }][{ ll.join(second) }]?\\d*\\*? *[@=] *' \n",
    "tail = '\\D{1,4}\\(?\\d?\\D?\\d?\\)?\\*? *[@=] *'\n",
    "reg_exp += tail\n",
    "reg_exp\n"
   ]
  },
  {
   "cell_type": "code",
   "execution_count": 42,
   "metadata": {},
   "outputs": [
    {
     "data": {
      "text/plain": [
       "['256']"
      ]
     },
     "execution_count": 42,
     "metadata": {},
     "output_type": "execute_result"
    }
   ],
   "source": [
    "import re\n",
    "a = re.compile(r'U(256)')\n",
    "a.findall('U256, Er, U258, T')"
   ]
  }
 ],
 "metadata": {
  "kernelspec": {
   "display_name": "Python 3",
   "language": "python",
   "name": "python3"
  },
  "language_info": {
   "codemirror_mode": {
    "name": "ipython",
    "version": 3
   },
   "file_extension": ".py",
   "mimetype": "text/x-python",
   "name": "python",
   "nbconvert_exporter": "python",
   "pygments_lexer": "ipython3",
   "version": "3.7.9-final"
  }
 },
 "nbformat": 4,
 "nbformat_minor": 4
}
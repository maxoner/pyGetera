{
 "cells": [
  {
   "cell_type": "markdown",
   "metadata": {},
   "source": [
    "# Markdown font\n",
    "\n",
    "Он очень некрасивый $\\int e^{-i \\omega x} d x$\n"
   ]
  },
  {
   "cell_type": "code",
   "execution_count": 1,
   "metadata": {
    "tags": []
   },
   "outputs": [
    {
     "data": {
      "text/plain": [
       "{'keff': 0.00158,\n",
       " 'nu': 0.0,\n",
       " 'mu': 10000000000.0,\n",
       " 'fi': 0.90191,\n",
       " 'teta': 1.0,\n",
       " '1::flux1': 1.00125,\n",
       " '1::stotal1': 0.3296691,\n",
       " '1::sabs1': 0.001246187,\n",
       " '1::sfis1': 7.049637e-06,\n",
       " '1::nusfis1': 1.999432e-05,\n",
       " '1::1/3*strans1': 1.276004,\n",
       " '1::1/vel*power1': 5.46385e-06,\n",
       " '1::flux2': 27.57193,\n",
       " '1::stotal2': 0.3502211,\n",
       " '1::sabs2': 0.0004164966,\n",
       " '1::sfis2': 0.0,\n",
       " '1::nusfis2': 0.0,\n",
       " '1::1/3*strans2': 1.409054,\n",
       " '1::1/vel*power2': 0.008676509}"
      ]
     },
     "execution_count": 1,
     "metadata": {},
     "output_type": "execute_result"
    }
   ],
   "source": [
    "import pyGetera\n",
    "import pandas as pd \n",
    "\n",
    "\n",
    "getera = pyGetera.GeteraInterface(\n",
    "    getera_path = 'D:\\\\bin\\\\',\n",
    "    input_file = 'lab2.txt',\n",
    "    output_file ='lab2.out')\n",
    "getera.output()\n"
   ]
  },
  {
   "cell_type": "code",
   "execution_count": 8,
   "metadata": {},
   "outputs": [
    {
     "name": "stdout",
     "output_type": "stream",
     "text": [
      "a\n"
     ]
    }
   ],
   "source": [
    "for x in range(1):\n",
    "    print('a')"
   ]
  },
  {
   "cell_type": "code",
   "execution_count": 11,
   "metadata": {},
   "outputs": [
    {
     "data": {
      "text/plain": [
       "1"
      ]
     },
     "execution_count": 11,
     "metadata": {},
     "output_type": "execute_result"
    }
   ],
   "source": [
    "\"\"\"\n",
    "aa\n",
    "dfdsf\n",
    "sass\n",
    "asd\n",
    "asda\n",
    "\"\"\".find('a')"
   ]
  },
  {
   "cell_type": "code",
   "execution_count": 2,
   "metadata": {
    "scrolled": false,
    "tags": []
   },
   "outputs": [
    {
     "name": "stdout",
     "output_type": "stream",
     "text": [
      "{'keff': 0.0016188, 'nu': 0.0, 'mu': 10000000000.0, 'fi': 0.90068, 'teta': 1.0, '1::flux1': 1.000912, '1::stotal1': 0.3297431, '1::sabs1': 0.001262275, '1::sfis1': 7.224833e-06, '1::nusfis1': 2.04912e-05, '1::1/3*strans1': 1.275714, '1::1/vel*power1': 5.458248e-06, '1::flux2': 26.93324, '1::stotal2': 0.3502322, '1::sabs2': 0.0004257878, '1::sfis2': 0.0, '1::nusfis2': 0.0, '1::1/3*strans2': 1.40888, '1::1/vel*power2': 0.008473666}\n",
      "{'keff': 0.0016177, 'nu': 0.0, 'mu': 10000000000.0, 'fi': 0.90071, 'teta': 1.0, '1::flux1': 1.000921, '1::stotal1': 0.3297412, '1::sabs1': 0.001261865, '1::sfis1': 7.220342e-06, '1::nusfis1': 2.047846e-05, '1::1/3*strans1': 1.275722, '1::1/vel*power1': 5.458382e-06, '1::flux2': 26.95096, '1::stotal2': 0.3502277, '1::sabs2': 0.0004255358, '1::sfis2': 0.0, '1::nusfis2': 0.0, '1::1/3*strans2': 1.408903, '1::1/vel*power2': 0.008479009}\n",
      "{'keff': 0.0016157, 'nu': 0.0, 'mu': 10000000000.0, 'fi': 0.90078, 'teta': 1.0, '1::flux1': 1.000938, '1::stotal1': 0.3297374, '1::sabs1': 0.001261045, '1::sfis1': 7.211357e-06, '1::nusfis1': 2.045298e-05, '1::1/3*strans1': 1.275736, '1::1/vel*power1': 5.45867e-06, '1::flux2': 26.98288, '1::stotal2': 0.3502271, '1::sabs2': 0.0004250594, '1::sfis2': 0.0, '1::nusfis2': 0.0, '1::1/3*strans2': 1.408912, '1::1/vel*power2': 0.008489145}\n",
      "{'keff': 0.0016138, 'nu': 0.0, 'mu': 10000000000.0, 'fi': 0.90084, 'teta': 1.0, '1::flux1': 1.000955, '1::stotal1': 0.3297336, '1::sabs1': 0.001260225, '1::sfis1': 7.20237e-06, '1::nusfis1': 2.042749e-05, '1::1/3*strans1': 1.275751, '1::1/vel*power1': 5.458961e-06, '1::flux2': 27.0137, '1::stotal2': 0.350229, '1::sabs2': 0.000424591, '1::sfis2': 0.0, '1::nusfis2': 0.0, '1::1/3*strans2': 1.40891, '1::1/vel*power2': 0.008499102}\n",
      "{'keff': 0.0016128, 'nu': 0.0, 'mu': 10000000000.0, 'fi': 0.90087, 'teta': 1.0, '1::flux1': 1.000963, '1::stotal1': 0.3297318, '1::sabs1': 0.001259815, '1::sfis1': 7.197881e-06, '1::nusfis1': 2.041476e-05, '1::1/3*strans1': 1.275759, '1::1/vel*power1': 5.459086e-06, '1::flux2': 27.03128, '1::stotal2': 0.3502226, '1::sabs2': 0.0004243333, '1::sfis2': 0.0, '1::nusfis2': 0.0, '1::1/3*strans2': 1.408941, '1::1/vel*power2': 0.008504285}\n",
      "{'keff': 0.0016108, 'nu': 0.0, 'mu': 10000000000.0, 'fi': 0.90093, 'teta': 1.0, '1::flux1': 1.000981, '1::stotal1': 0.3297279, '1::sabs1': 0.001258993, '1::sfis1': 7.188894e-06, '1::nusfis1': 2.038927e-05, '1::1/3*strans1': 1.275773, '1::1/vel*power1': 5.459386e-06, '1::flux2': 27.06296, '1::stotal2': 0.3502256, '1::sabs2': 0.0004238684, '1::sfis2': 0.0, '1::nusfis2': 0.0, '1::1/3*strans2': 1.408934, '1::1/vel*power2': 0.008514578}\n",
      "{'keff': 0.0016098, 'nu': 0.0, 'mu': 10000000000.0, 'fi': 0.90096, 'teta': 1.0, '1::flux1': 1.00099, '1::stotal1': 0.329726, '1::sabs1': 0.001258582, '1::sfis1': 7.184401e-06, '1::nusfis1': 2.037653e-05, '1::1/3*strans1': 1.275781, '1::1/vel*power1': 5.459531e-06, '1::flux2': 27.07828, '1::stotal2': 0.3502279, '1::sabs2': 0.0004236382, '1::sfis2': 0.0, '1::nusfis2': 0.0, '1::1/3*strans2': 1.408928, '1::1/vel*power2': 0.008519609}\n",
      "{'keff': 0.0016058, 'nu': 0.0, 'mu': 10000000000.0, 'fi': 0.90109, 'teta': 1.0, '1::flux1': 1.001024, '1::stotal1': 0.3297184, '1::sabs1': 0.001256938, '1::sfis1': 7.166429e-06, '1::nusfis1': 2.032556e-05, '1::1/3*strans1': 1.275811, '1::1/vel*power1': 5.460108e-06, '1::flux2': 27.14376, '1::stotal2': 0.3502267, '1::sabs2': 0.0004226855, '1::sfis2': 0.0, '1::nusfis2': 0.0, '1::1/3*strans2': 1.408946, '1::1/vel*power2': 0.008540405}\n",
      "{'keff': 0.00158, 'nu': 0.0, 'mu': 10000000000.0, 'fi': 0.90191, 'teta': 1.0, '1::flux1': 1.00125, '1::stotal1': 0.3296691, '1::sabs1': 0.001246187, '1::sfis1': 7.049637e-06, '1::nusfis1': 1.999432e-05, '1::1/3*strans1': 1.276004, '1::1/vel*power1': 5.46385e-06, '1::flux2': 27.57193, '1::stotal2': 0.3502211, '1::sabs2': 0.0004164966, '1::sfis2': 0.0, '1::nusfis2': 0.0, '1::1/3*strans2': 1.409054, '1::1/vel*power2': 0.008676509}\n",
      "{'keff': 0.00158, 'nu': 0.0, 'mu': 10000000000.0, 'fi': 0.90191, 'teta': 1.0, '1::flux1': 1.00125, '1::stotal1': 0.3296691, '1::sabs1': 0.001246187, '1::sfis1': 7.049637e-06, '1::nusfis1': 1.999432e-05, '1::1/3*strans1': 1.276004, '1::1/vel*power1': 5.46385e-06, '1::flux2': 27.57193, '1::stotal2': 0.3502211, '1::sabs2': 0.0004164966, '1::sfis2': 0.0, '1::nusfis2': 0.0, '1::1/3*strans2': 1.409054, '1::1/vel*power2': 0.008676509}\n"
     ]
    }
   ],
   "source": [
    "C = 200\n",
    "ptop0 = 10.97*6.02*10**(23)/269.928\n",
    "pzam01 = 1.1*6.02*10**(23)/20.028\n",
    "\n",
    "Rho1 = pd.DataFrame({'x':[1.2,1.3,1.4,1.5,1.6,1.7,1.8,2.0,3.6,3.6]})\n",
    "Rho1['pzam'] = C*pzam01*ptop0/(C*ptop0+pzam01)\n",
    "Rho1['ptop'] = pzam01*ptop0/(C*ptop0+pzam01)\n",
    "Rho1['t'] = 293.0\n",
    "Rho1['U235'] = 0*(Rho1.x/100)*Rho1.ptop*10**(-24)\n",
    "Rho1['U238'] = (1-Rho1.x/100)*Rho1.ptop*10**(-24)\n",
    "Rho1['O'] =2*Rho1.ptop*10**(-24)\n",
    "Rho1['C'] = 2*Rho1.pzam*10**(-24)\n",
    "i = 0\n",
    "\n",
    "\n",
    "\n",
    "for i in range(Rho1.shape[0]):\n",
    "    getera.input(dict(Rho1[Rho1.columns[3:-2]].loc[i]))\n",
    "    print(getera.output())"
   ]
  },
  {
   "cell_type": "code",
   "execution_count": 13,
   "metadata": {},
   "outputs": [
    {
     "name": "stdout",
     "output_type": "stream",
     "text": [
      "[' @ U235  @   ', ' @ U238  @   ']\n",
      "[5.0, 3.0, 1.0]\n",
      "[1.1, 3.1, 4.1]\n"
     ]
    }
   ],
   "source": [
    "getera5 = pyGetera.GeteraInterface(\n",
    "    getera_path = 'D:\\\\Знания\\\\учебный склад\\\\3 курс\\\\ТЯР\\\\GETERA\\\\',\n",
    "    input_file = 'lab5.txt',\n",
    "    output_file ='lab5.out')\n",
    "\n",
    "getera5.input({\n",
    "    'U235':[5.0, 3.0, 1.0],\n",
    "    'O':[1.1,3.1,4.1]\n",
    "})"
   ]
  },
  {
   "cell_type": "code",
   "execution_count": 7,
   "metadata": {},
   "outputs": [
    {
     "data": {
      "text/plain": [
       "' *[@ ] *\\\\*?[U]\\\\*? *[@=] *\\\\s*'"
      ]
     },
     "execution_count": 7,
     "metadata": {},
     "output_type": "execute_result"
    }
   ],
   "source": [
    "        def gen_regexp(strings:str) -> str:\n",
    "            \"\"\"\n",
    "            Генерирует регулярное выражение из массива \n",
    "            строк strings\n",
    "            \"\"\"\n",
    "            string = ','.join(strings)\n",
    "            flag = False\n",
    "            first = []                                  \n",
    "            second = []\n",
    "            for i in string:\n",
    "                if i == ',':\n",
    "                    flag = False\n",
    "                elif i.isdigit(): \n",
    "                    continue\n",
    "                elif flag:\n",
    "                    second.append(i)\n",
    "                    flag = False\n",
    "                else:\n",
    "                    first.append(i) \n",
    "                    flag = True\n",
    "            ll = ''\n",
    "            reg_exp = f' *[@ ] *\\*?[{ ll.join(first) }][{ ll.join(second) }]?\\*? *[@=] *\\s*' \n",
    "            if len(second) == 0:\n",
    "                reg_exp = reg_exp.replace('[]?','')\n",
    "            #tail = '\\D{1,4}\\(?\\d?\\D?\\d?\\)?\\*? *[@=] *'\n",
    "            #tail = ' *[@=] *'\n",
    "            #reg_exp += tail\n",
    "            #reg_exp\n",
    "            return reg_exp\n",
    "gen_regexp('U235')"
   ]
  },
  {
   "cell_type": "code",
   "execution_count": 5,
   "metadata": {},
   "outputs": [
    {
     "data": {
      "text/plain": [
       "[1]"
      ]
     },
     "execution_count": 5,
     "metadata": {},
     "output_type": "execute_result"
    }
   ],
   "source": [
    "[1]"
   ]
  },
  {
   "cell_type": "code",
   "execution_count": 28,
   "metadata": {},
   "outputs": [
    {
     "data": {
      "text/plain": [
       "Index(['t', 'U235', 'U238', 'O', 'D'], dtype='object')"
      ]
     },
     "execution_count": 28,
     "metadata": {},
     "output_type": "execute_result"
    }
   ],
   "source": [
    "Rho1[Rho1.columns[3:-2]].loc[i].index"
   ]
  },
  {
   "cell_type": "code",
   "execution_count": 18,
   "metadata": {},
   "outputs": [
    {
     "data": {
      "text/plain": [
       "True"
      ]
     },
     "execution_count": 18,
     "metadata": {},
     "output_type": "execute_result"
    }
   ],
   "source": [
    "type([]) == list"
   ]
  },
  {
   "cell_type": "code",
   "execution_count": 7,
   "metadata": {},
   "outputs": [
    {
     "data": {
      "text/html": [
       "<div>\n",
       "<style scoped>\n",
       "    .dataframe tbody tr th:only-of-type {\n",
       "        vertical-align: middle;\n",
       "    }\n",
       "\n",
       "    .dataframe tbody tr th {\n",
       "        vertical-align: top;\n",
       "    }\n",
       "\n",
       "    .dataframe thead th {\n",
       "        text-align: right;\n",
       "    }\n",
       "</style>\n",
       "<table border=\"1\" class=\"dataframe\">\n",
       "  <thead>\n",
       "    <tr style=\"text-align: right;\">\n",
       "      <th></th>\n",
       "      <th>U235</th>\n",
       "      <th>U238</th>\n",
       "      <th>O</th>\n",
       "      <th>D</th>\n",
       "      <th>O*</th>\n",
       "    </tr>\n",
       "  </thead>\n",
       "  <tbody>\n",
       "    <tr>\n",
       "      <th>0</th>\n",
       "      <td>0.000002</td>\n",
       "      <td>0.000162</td>\n",
       "      <td>0.000328</td>\n",
       "      <td>0.065684</td>\n",
       "      <td>0.032842</td>\n",
       "    </tr>\n",
       "    <tr>\n",
       "      <th>1</th>\n",
       "      <td>0.000002</td>\n",
       "      <td>0.000162</td>\n",
       "      <td>0.000328</td>\n",
       "      <td>0.065684</td>\n",
       "      <td>0.032842</td>\n",
       "    </tr>\n",
       "    <tr>\n",
       "      <th>2</th>\n",
       "      <td>0.000002</td>\n",
       "      <td>0.000162</td>\n",
       "      <td>0.000328</td>\n",
       "      <td>0.065684</td>\n",
       "      <td>0.032842</td>\n",
       "    </tr>\n",
       "    <tr>\n",
       "      <th>3</th>\n",
       "      <td>0.000002</td>\n",
       "      <td>0.000162</td>\n",
       "      <td>0.000328</td>\n",
       "      <td>0.065684</td>\n",
       "      <td>0.032842</td>\n",
       "    </tr>\n",
       "    <tr>\n",
       "      <th>4</th>\n",
       "      <td>0.000003</td>\n",
       "      <td>0.000162</td>\n",
       "      <td>0.000328</td>\n",
       "      <td>0.065684</td>\n",
       "      <td>0.032842</td>\n",
       "    </tr>\n",
       "    <tr>\n",
       "      <th>5</th>\n",
       "      <td>0.000003</td>\n",
       "      <td>0.000161</td>\n",
       "      <td>0.000328</td>\n",
       "      <td>0.065684</td>\n",
       "      <td>0.032842</td>\n",
       "    </tr>\n",
       "    <tr>\n",
       "      <th>6</th>\n",
       "      <td>0.000003</td>\n",
       "      <td>0.000161</td>\n",
       "      <td>0.000328</td>\n",
       "      <td>0.065684</td>\n",
       "      <td>0.032842</td>\n",
       "    </tr>\n",
       "    <tr>\n",
       "      <th>7</th>\n",
       "      <td>0.000003</td>\n",
       "      <td>0.000161</td>\n",
       "      <td>0.000328</td>\n",
       "      <td>0.065684</td>\n",
       "      <td>0.032842</td>\n",
       "    </tr>\n",
       "    <tr>\n",
       "      <th>8</th>\n",
       "      <td>0.000006</td>\n",
       "      <td>0.000158</td>\n",
       "      <td>0.000328</td>\n",
       "      <td>0.065684</td>\n",
       "      <td>0.032842</td>\n",
       "    </tr>\n",
       "    <tr>\n",
       "      <th>9</th>\n",
       "      <td>0.000006</td>\n",
       "      <td>0.000158</td>\n",
       "      <td>0.000328</td>\n",
       "      <td>0.065684</td>\n",
       "      <td>0.032842</td>\n",
       "    </tr>\n",
       "  </tbody>\n",
       "</table>\n",
       "</div>"
      ],
      "text/plain": [
       "       U235      U238         O         D        O*\n",
       "0  0.000002  0.000162  0.000328  0.065684  0.032842\n",
       "1  0.000002  0.000162  0.000328  0.065684  0.032842\n",
       "2  0.000002  0.000162  0.000328  0.065684  0.032842\n",
       "3  0.000002  0.000162  0.000328  0.065684  0.032842\n",
       "4  0.000003  0.000162  0.000328  0.065684  0.032842\n",
       "5  0.000003  0.000161  0.000328  0.065684  0.032842\n",
       "6  0.000003  0.000161  0.000328  0.065684  0.032842\n",
       "7  0.000003  0.000161  0.000328  0.065684  0.032842\n",
       "8  0.000006  0.000158  0.000328  0.065684  0.032842\n",
       "9  0.000006  0.000158  0.000328  0.065684  0.032842"
      ]
     },
     "execution_count": 7,
     "metadata": {},
     "output_type": "execute_result"
    }
   ],
   "source": [
    "inputRho = Rho1[Rho1.columns[4:-1]]\n",
    "inputRho.columns = ['U235', 'U238','O', 'D', 'O*']\n",
    "inputRho"
   ]
  },
  {
   "cell_type": "code",
   "execution_count": 10,
   "metadata": {
    "tags": []
   },
   "outputs": [
    {
     "data": {
      "text/plain": [
       "{'Σtot1': 0.3562511,\n",
       " 'Σabs1': 0.001146408,\n",
       " 'Σfis1': 3.155204e-05,\n",
       " 'νSf1': 7.899197e-05,\n",
       " 'D1': '1.074820',\n",
       " 'Σtot2': 0.4111423,\n",
       " 'Σabs2': 0.01360078,\n",
       " 'Σfis2': 0.005892128,\n",
       " 'νSf2': 0.01962913,\n",
       " 'D2': '0.8132778',\n",
       " 'Σ1→2': '0.3182108'}"
      ]
     },
     "execution_count": 10,
     "metadata": {},
     "output_type": "execute_result"
    }
   ],
   "source": [
    "C = 200\n",
    "ptop0 = 10.97*6.02*10**(23)/269.928\n",
    "pzam01 = 1.1*6.02*10**(23)/20.028\n",
    "\n",
    "Rho1 = pd.DataFrame({'x':[1.2,1.3,1.4,1.5,1.6,1.7,1.8,2.0,3.6,3.6]})\n",
    "Rho1['pzam'] = C*pzam01*ptop0/(C*ptop0+pzam01)\n",
    "Rho1['ptop'] = pzam01*ptop0/(C*ptop0+pzam01)\n",
    "Rho1['T'] = 293.0\n",
    "Rho1['p5'] = (Rho1.x/100)*Rho1.ptop*10**(-24)\n",
    "Rho1['p8'] = (1-Rho1.x/100)*Rho1.ptop*10**(-24)\n",
    "Rho1['pO'] = 2*Rho1.ptop*10**(-24)\n",
    "Rho1['pD'] = 2*Rho1.pzam*10**(-24)\n",
    "Rho1['pO*'] = Rho1.pzam*10**(-24)\n",
    "Rho1['pEr'] = 0.0\n",
    "\n",
    "getera.input(Rho1[Rho1.columns[3:-1]].loc[0], ['t','U235', 'U238', 'O', 'D'])\n",
    "getera.output()"
   ]
  },
  {
   "cell_type": "code",
   "execution_count": 48,
   "metadata": {
    "tags": []
   },
   "outputs": [
    {
     "name": "stdout",
     "output_type": "stream",
     "text": [
      "*[@ ] *\\*?[UUO]\\d*\\*? *[@=] *\n",
      "[' @ U235  @   ', ' @ U238  @   ', ' @ O     @   ']\n"
     ]
    }
   ],
   "source": [
    "gui.input([1,2,3],['U235','U238','O'])"
   ]
  },
  {
   "cell_type": "code",
   "execution_count": 13,
   "metadata": {},
   "outputs": [
    {
     "data": {
      "text/plain": [
       "' *[@ ] *\\\\*?[itUU][g]?\\\\d*\\\\*? *[@=] *\\\\D{1,4}\\\\(?\\\\d?\\\\D?\\\\d?\\\\)?\\\\*? *[@=] *'"
      ]
     },
     "execution_count": 13,
     "metadata": {},
     "output_type": "execute_result"
    }
   ],
   "source": [
    "string = ','.join(['ig','t', 'U235', 'U238'])\n",
    "flag = False\n",
    "first = []\n",
    "second = []\n",
    "for i in string:\n",
    "    if i==',':\n",
    "        flag = False\n",
    "    elif i.isdigit():\n",
    "        continue\n",
    "    elif flag:\n",
    "        second.append(i)\n",
    "        flag = False\n",
    "    else:\n",
    "        first.append(i) \n",
    "        flag = True\n",
    "ll = ''\n",
    "reg_exp = f' *[@ ] *\\*?[{ ll.join(first) }][{ ll.join(second) }]?\\d*\\*? *[@=] *' \n",
    "tail = '\\D{1,4}\\(?\\d?\\D?\\d?\\)?\\*? *[@=] *'\n",
    "reg_exp += tail\n",
    "reg_exp\n"
   ]
  },
  {
   "cell_type": "code",
   "execution_count": 42,
   "metadata": {},
   "outputs": [
    {
     "data": {
      "text/plain": [
       "['256']"
      ]
     },
     "execution_count": 42,
     "metadata": {},
     "output_type": "execute_result"
    }
   ],
   "source": [
    "import re\n",
    "a = re.compile(r'U(256)')\n",
    "a.findall('U256, Er, U258, T')"
   ]
  }
 ],
 "metadata": {
  "kernelspec": {
   "display_name": "Python 3",
   "language": "python",
   "name": "python3"
  },
  "language_info": {
   "codemirror_mode": {
    "name": "ipython",
    "version": 3
   },
   "file_extension": ".py",
   "mimetype": "text/x-python",
   "name": "python",
   "nbconvert_exporter": "python",
   "pygments_lexer": "ipython3",
   "version": "3.8.5"
  }
 },
 "nbformat": 4,
 "nbformat_minor": 4
}
